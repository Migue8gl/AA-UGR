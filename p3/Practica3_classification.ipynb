{
  "cells": [
    {
      "cell_type": "markdown",
      "metadata": {
        "id": "pU9fD1PCGRYJ"
      },
      "source": [
        "# Práctica 3 - Ajuste de Modelos Lineales\n",
        "\n",
        "### Alumno: MIGUEL GARCÍA LÓPEZ\n",
        "### Grupo: A2\n",
        "\n",
        "Límite de entrega: 5 de Junio de 2022 a las 23:59 (PRADO)\n",
        "\n",
        "Valoración máxima: 12 puntos"
      ]
    },
    {
      "cell_type": "markdown",
      "metadata": {
        "id": "T8igI52YVKtz"
      },
      "source": [
        "#**1 -- (CLASIFICACIÓN) --** \n",
        "\n",
        "#Análisis del problema\n",
        "Este conjuntos de datos recoge información sobre campañas de marketing de un una institución bancaria Portuguesa. Estas se basan en llamadas de teléfono a los clientes, y muchas de esas veces se requiere más de una llamada para el mismo cliente.\n",
        "\n",
        "Se nos ofrecen tres archivos:\n",
        "* bank-names.txt -> un fichero con la descripción del problema e información relevante.\n",
        "* bank-full.csv -> un fichero con todos los datos de nuestro problema.\n",
        "* bank.csv -> un fichero con un 10% de ejemplos seleccionados sobre el total y completamente aleatorios. Se podrían utilizar como partición test (en nuestro caso lo haremos nosotros mismos).\n",
        "\n",
        "Nosotros vamos a utilizar el archivo \"bank-full.csv\" que contiene todos los ejemplos. A la hora de hacer las particiones test y training, las haremos nosotros mismos.\n",
        "\n",
        "* X -> Los inputs de nuestro problema son los clientes, los cuales tiene una serie de características a tener en cuenta:\n",
        "  * x = [edad, trabajo estado civil, educación, crédito en mora, balance, hipoteca, préstamo, tipo de contacto, último día de contacto, último mes de contacto, duración del contacto, número de contactos al cliente durante la campaña, número de día desde que el cliente fue contactado desde la última campaña, número de contactos realizados antes de esta campaña al cliente, resultado de la campaña anterior]\n",
        "* Y -> Los outputs esperados de nuestro problema, las etiquetas deseadas:\n",
        "  * y = [sí, no] (si el cliente ha suscrito un depósito a plazo)\n",
        "* F -> la función objetivo de nuestro problema sería una que dado unos datos X nos devolviera unas salidas Y con predicciones perfectas sobre si el cliente va a suscribirse a un depósito a plazo."
      ]
    },
    {
      "cell_type": "code",
      "execution_count": 1,
      "metadata": {
        "colab": {
          "base_uri": "https://localhost:8080/"
        },
        "id": "DSf9c5-IWHkr",
        "outputId": "1af63cd5-659b-4b08-ba49-9f95dcd62e92"
      },
      "outputs": [
        {
          "output_type": "stream",
          "name": "stdout",
          "text": [
            "Mounted at /content/drive\n"
          ]
        }
      ],
      "source": [
        "# Librerías a utilizar\n",
        "import pandas as pd\n",
        "import math as mt\n",
        "import numpy as np\n",
        "from sklearn.preprocessing import OrdinalEncoder\n",
        "from numpy import nan\n",
        "from sklearn.impute import SimpleImputer\n",
        "from sklearn.decomposition import PCA\n",
        "from scipy import stats\n",
        "from sklearn.dummy import DummyClassifier\n",
        "from imblearn.over_sampling import RandomOverSampler\n",
        "from sklearn.preprocessing import RobustScaler\n",
        "from sklearn.preprocessing import MinMaxScaler\n",
        "from sklearn.preprocessing import StandardScaler\n",
        "from sklearn.preprocessing import FunctionTransformer\n",
        "from sklearn.preprocessing import Normalizer\n",
        "from sklearn.feature_selection import VarianceThreshold\n",
        "from sklearn.neighbors import LocalOutlierFactor\n",
        "from sklearn.model_selection import train_test_split\n",
        "from sklearn.model_selection import GridSearchCV\n",
        "from sklearn import metrics\n",
        "from sklearn import linear_model\n",
        "from sklearn import metrics\n",
        "from sklearn.pipeline import Pipeline\n",
        "import matplotlib.pyplot as plt\n",
        "import seaborn as sns\n",
        "import warnings\n",
        "warnings.filterwarnings('ignore') \n",
        "\n",
        "from google.colab import drive\n",
        "drive.mount('/content/drive')"
      ]
    },
    {
      "cell_type": "code",
      "execution_count": 2,
      "metadata": {
        "id": "NdosjWx0EGs5"
      },
      "outputs": [],
      "source": [
        "# Clasificación\n",
        "path = '/content/drive/My Drive/Colab Notebooks/datos3/clas/bank-full.csv'\n",
        " \n",
        "# Función para lectura de datos\n",
        "def readData(path):\n",
        "  data = pd.read_csv(path, sep=';')\n",
        "  return data\n",
        "\n",
        "data = readData(path)"
      ]
    },
    {
      "cell_type": "markdown",
      "metadata": {
        "id": "lMN9lLyWGPGi"
      },
      "source": [
        "**(1)** Leemos los datos con la función readData. Esta función se encarga de leer un fichero csv gracias a las herramientas proporcionadas por la biblioteca \"Pandas\". Le pasamos como parámetros la dirección al archivo y un separador, en nuestro caso ';'."
      ]
    },
    {
      "cell_type": "code",
      "execution_count": 3,
      "metadata": {
        "id": "2XZ800UyEguh"
      },
      "outputs": [],
      "source": [
        "# Función para dividir los datos y sus etiquetas y dividir en train y test\n",
        "def splitData(data):\n",
        "  x = data.loc[:, data.columns != 'y'] # todos los datos excepto etiquetas\n",
        "  y = data.loc[:,'y']\n",
        "  x_train, x_test, y_train, y_test = train_test_split(x, y, test_size=0.2, random_state=12345)\n",
        "  return x_train, x_test, y_train, y_test\n",
        "\n",
        "x_train, x_test, y_train, y_test = splitData(data)"
      ]
    },
    {
      "cell_type": "markdown",
      "metadata": {
        "id": "oAV2edQYQhXP"
      },
      "source": [
        "**(2)** Creamos una función que divide el dataframe en x (datos) e y (etiquetas). Después usamos la función de sklearn de train_test_split que nos divide los datos en entrenamiento y test. Le especificamos en los parámetros que queremos un tamaño de test del 20% del total de los datos y un valor random para mezclarlos que funciona como semilla, siempre que los mezclemos con ese valor se barajarán igual, por lo que nos resulta muy conveniente para comprobar mejoras y añadir código para probar resultados sin que intervenga el azar a la hora de barajar. Hemos utilizado un 20% para test debido a las siguientes razones:\n",
        "* Si el tamaño del conjunto training es demasiado pequeño, nuestra hipótesis candidata será peor pues tiene menos datos para entrenarse.\n",
        "* Si el tamaño del conjunto test es muy pequeño, nuestra varianza se disparará.\n",
        "\n",
        "Tenemos que obtener equilibrio, y como regla general podemos obtener una buena estimación fijando $K = \\frac{N}{5}$ (20 % de datos para test). Más adelante definiremos el conjunto de validación con cross-validation y justificaremos su uso."
      ]
    },
    {
      "cell_type": "code",
      "execution_count": 4,
      "metadata": {
        "colab": {
          "base_uri": "https://localhost:8080/",
          "height": 516
        },
        "id": "kpRGsqVWQ_Ot",
        "outputId": "4bf6e2db-9063-4271-93c8-b57b41173354"
      },
      "outputs": [
        {
          "output_type": "stream",
          "name": "stdout",
          "text": [
            "HISTOGRAMAS PARA TRAIN\n"
          ]
        },
        {
          "output_type": "display_data",
          "data": {
            "text/plain": [
              "<Figure size 720x576 with 9 Axes>"
            ],
            "image/png": "[encoded data removed]"
          },
          "metadata": {
            "needs_background": "light"
          }
        }
      ],
      "source": [
        "plt.rcParams[\"figure.figsize\"] = [10, 8]\n",
        "print(\"HISTOGRAMAS PARA TRAIN\")\n",
        "x_train.hist()\n",
        "plt.show()"
      ]
    },
    {
      "cell_type": "code",
      "execution_count": 5,
      "metadata": {
        "colab": {
          "base_uri": "https://localhost:8080/",
          "height": 605
        },
        "id": "K14Bh3TpDTaL",
        "outputId": "68d10a71-300f-4e43-8a4c-1a0422599b34"
      },
      "outputs": [
        {
          "output_type": "stream",
          "name": "stdout",
          "text": [
            "Histogramas de las etiquetas\n"
          ]
        },
        {
          "output_type": "display_data",
          "data": {
            "text/plain": [
              "<Figure size 720x576 with 1 Axes>"
            ],
            "image/png": "[encoded data removed]"
          },
          "metadata": {
            "needs_background": "light"
          }
        },
        {
          "output_type": "stream",
          "name": "stdout",
          "text": [
            "\n",
            "Número de valores por clase: \n",
            " no     31917\n",
            "yes     4251\n",
            "Name: y, dtype: int64\n",
            "Porcentajes de 'yes':  13.318920951217219 %\n"
          ]
        }
      ],
      "source": [
        "print(\"Histogramas de las etiquetas\")\n",
        "y_train.hist()\n",
        "plt.show()\n",
        "\n",
        "h = y_train.value_counts()\n",
        "\n",
        "print(\"\\nNúmero de valores por clase: \\n\",h)\n",
        "print(\"Porcentajes de 'yes': \", (h[1]/h[0])*100, \"%\")"
      ]
    },
    {
      "cell_type": "code",
      "execution_count": 6,
      "metadata": {
        "colab": {
          "base_uri": "https://localhost:8080/"
        },
        "id": "nOh8j7HjRAgT",
        "outputId": "352ff11f-e78f-43f5-fcdb-9f686622d16b"
      },
      "outputs": [
        {
          "output_type": "stream",
          "name": "stdout",
          "text": [
            "age          36168\n",
            "job          36168\n",
            "marital      36168\n",
            "education    36168\n",
            "default      36168\n",
            "balance      36168\n",
            "housing      36168\n",
            "loan         36168\n",
            "contact      36168\n",
            "day          36168\n",
            "month        36168\n",
            "duration     36168\n",
            "campaign     36168\n",
            "pdays        36168\n",
            "previous     36168\n",
            "poutcome     36168\n",
            "dtype: int64\n"
          ]
        }
      ],
      "source": [
        "print(x_train.count())"
      ]
    },
    {
      "cell_type": "markdown",
      "metadata": {
        "id": "qMoH5q1ERRgR"
      },
      "source": [
        "**(3)** Viendo los histogramas del conjunto de train vemos como la distribución de los datos no es uniforme en todas las características. Podemos ver también que los ejemplos para cada característica son los mismos, por lo que hay balanceo en ese sentido. En cuanto a las clases (yes o no) hay un grandísimo desbalanceo a favor de 'no', teniendo un porcentaje de tan solo 13% para la clase 'yes'."
      ]
    },
    {
      "cell_type": "code",
      "execution_count": 7,
      "metadata": {
        "colab": {
          "base_uri": "https://localhost:8080/",
          "height": 986
        },
        "id": "LAXE4stjOy48",
        "outputId": "c28b7950-fe00-414a-c663-1f1545d41739"
      },
      "outputs": [
        {
          "output_type": "stream",
          "name": "stdout",
          "text": [
            "BOXPLOTS\n",
            "\n"
          ]
        },
        {
          "output_type": "display_data",
          "data": {
            "text/plain": [
              "<Figure size 1152x864 with 1 Axes>"
            ],
            "image/png": "[encoded data removed]"
          },
          "metadata": {
            "needs_background": "light"
          }
        },
        {
          "output_type": "execute_result",
          "data": {
            "text/plain": [
              "                age       balance           day      duration      campaign  \\\n",
              "count  36168.000000  36168.000000  36168.000000  36168.000000  36168.000000   \n",
              "mean      40.963144   1354.142059     15.784837    258.425791      2.766783   \n",
              "std       10.631362   2961.344216      8.337451    257.929559      3.111382   \n",
              "min       18.000000  -4057.000000      1.000000      0.000000      1.000000   \n",
              "25%       33.000000     73.000000      8.000000    103.000000      1.000000   \n",
              "50%       39.000000    451.000000     16.000000    180.000000      2.000000   \n",
              "75%       48.000000   1430.000000     21.000000    319.000000      3.000000   \n",
              "max       95.000000  98417.000000     31.000000   4918.000000     63.000000   \n",
              "\n",
              "              pdays      previous  \n",
              "count  36168.000000  36168.000000  \n",
              "mean      40.228738      0.579822  \n",
              "std      100.290166      2.381052  \n",
              "min       -1.000000      0.000000  \n",
              "25%       -1.000000      0.000000  \n",
              "50%       -1.000000      0.000000  \n",
              "75%       -1.000000      0.000000  \n",
              "max      871.000000    275.000000  "
            ],
            "text/html": [
              "\n",
              "  <div id=\"df-033c6902-3c69-434e-b702-fef0b87fdd51\">\n",
              "    <div class=\"colab-df-container\">\n",
              "      <div>\n",
              "<style scoped>\n",
              "    .dataframe tbody tr th:only-of-type {\n",
              "        vertical-align: middle;\n",
              "    }\n",
              "\n",
              "    .dataframe tbody tr th {\n",
              "        vertical-align: top;\n",
              "    }\n",
              "\n",
              "    .dataframe thead th {\n",
              "        text-align: right;\n",
              "    }\n",
              "</style>\n",
              "<table border=\"1\" class=\"dataframe\">\n",
              "  <thead>\n",
              "    <tr style=\"text-align: right;\">\n",
              "      <th></th>\n",
              "      <th>age</th>\n",
              "      <th>balance</th>\n",
              "      <th>day</th>\n",
              "      <th>duration</th>\n",
              "      <th>campaign</th>\n",
              "      <th>pdays</th>\n",
              "      <th>previous</th>\n",
              "    </tr>\n",
              "  </thead>\n",
              "  <tbody>\n",
              "    <tr>\n",
              "      <th>count</th>\n",
              "      <td>36168.000000</td>\n",
              "      <td>36168.000000</td>\n",
              "      <td>36168.000000</td>\n",
              "      <td>36168.000000</td>\n",
              "      <td>36168.000000</td>\n",
              "      <td>36168.000000</td>\n",
              "      <td>36168.000000</td>\n",
              "    </tr>\n",
              "    <tr>\n",
              "      <th>mean</th>\n",
              "      <td>40.963144</td>\n",
              "      <td>1354.142059</td>\n",
              "      <td>15.784837</td>\n",
              "      <td>258.425791</td>\n",
              "      <td>2.766783</td>\n",
              "      <td>40.228738</td>\n",
              "      <td>0.579822</td>\n",
              "    </tr>\n",
              "    <tr>\n",
              "      <th>std</th>\n",
              "      <td>10.631362</td>\n",
              "      <td>2961.344216</td>\n",
              "      <td>8.337451</td>\n",
              "      <td>257.929559</td>\n",
              "      <td>3.111382</td>\n",
              "      <td>100.290166</td>\n",
              "      <td>2.381052</td>\n",
              "    </tr>\n",
              "    <tr>\n",
              "      <th>min</th>\n",
              "      <td>18.000000</td>\n",
              "      <td>-4057.000000</td>\n",
              "      <td>1.000000</td>\n",
              "      <td>0.000000</td>\n",
              "      <td>1.000000</td>\n",
              "      <td>-1.000000</td>\n",
              "      <td>0.000000</td>\n",
              "    </tr>\n",
              "    <tr>\n",
              "      <th>25%</th>\n",
              "      <td>33.000000</td>\n",
              "      <td>73.000000</td>\n",
              "      <td>8.000000</td>\n",
              "      <td>103.000000</td>\n",
              "      <td>1.000000</td>\n",
              "      <td>-1.000000</td>\n",
              "      <td>0.000000</td>\n",
              "    </tr>\n",
              "    <tr>\n",
              "      <th>50%</th>\n",
              "      <td>39.000000</td>\n",
              "      <td>451.000000</td>\n",
              "      <td>16.000000</td>\n",
              "      <td>180.000000</td>\n",
              "      <td>2.000000</td>\n",
              "      <td>-1.000000</td>\n",
              "      <td>0.000000</td>\n",
              "    </tr>\n",
              "    <tr>\n",
              "      <th>75%</th>\n",
              "      <td>48.000000</td>\n",
              "      <td>1430.000000</td>\n",
              "      <td>21.000000</td>\n",
              "      <td>319.000000</td>\n",
              "      <td>3.000000</td>\n",
              "      <td>-1.000000</td>\n",
              "      <td>0.000000</td>\n",
              "    </tr>\n",
              "    <tr>\n",
              "      <th>max</th>\n",
              "      <td>95.000000</td>\n",
              "      <td>98417.000000</td>\n",
              "      <td>31.000000</td>\n",
              "      <td>4918.000000</td>\n",
              "      <td>63.000000</td>\n",
              "      <td>871.000000</td>\n",
              "      <td>275.000000</td>\n",
              "    </tr>\n",
              "  </tbody>\n",
              "</table>\n",
              "</div>\n",
              "      <button class=\"colab-df-convert\" onclick=\"convertToInteractive('df-033c6902-3c69-434e-b702-fef0b87fdd51')\"\n",
              "              title=\"Convert this dataframe to an interactive table.\"\n",
              "              style=\"display:none;\">\n",
              "        \n",
              "  <svg xmlns=\"http://www.w3.org/2000/svg\" height=\"24px\"viewBox=\"0 0 24 24\"\n",
              "       width=\"24px\">\n",
              "    <path d=\"M0 0h24v24H0V0z\" fill=\"none\"/>\n",
              "    <path d=\"M18.56 5.44l.94 2.06.94-2.06 2.06-.94-2.06-.94-.94-2.06-.94 2.06-2.06.94zm-11 1L8.5 8.5l.94-2.06 2.06-.94-2.06-.94L8.5 2.5l-.94 2.06-2.06.94zm10 10l.94 2.06.94-2.06 2.06-.94-2.06-.94-.94-2.06-.94 2.06-2.06.94z\"/><path d=\"M17.41 7.96l-1.37-1.37c-.4-.4-.92-.59-1.43-.59-.52 0-1.04.2-1.43.59L10.3 9.45l-7.72 7.72c-.78.78-.78 2.05 0 2.83L4 21.41c.39.39.9.59 1.41.59.51 0 1.02-.2 1.41-.59l7.78-7.78 2.81-2.81c.8-.78.8-2.07 0-2.86zM5.41 20L4 18.59l7.72-7.72 1.47 1.35L5.41 20z\"/>\n",
              "  </svg>\n",
              "      </button>\n",
              "      \n",
              "  <style>\n",
              "    .colab-df-container {\n",
              "      display:flex;\n",
              "      flex-wrap:wrap;\n",
              "      gap: 12px;\n",
              "    }\n",
              "\n",
              "    .colab-df-convert {\n",
              "      background-color: #E8F0FE;\n",
              "      border: none;\n",
              "      border-radius: 50%;\n",
              "      cursor: pointer;\n",
              "      display: none;\n",
              "      fill: #1967D2;\n",
              "      height: 32px;\n",
              "      padding: 0 0 0 0;\n",
              "      width: 32px;\n",
              "    }\n",
              "\n",
              "    .colab-df-convert:hover {\n",
              "      background-color: #E2EBFA;\n",
              "      box-shadow: 0px 1px 2px rgba(60, 64, 67, 0.3), 0px 1px 3px 1px rgba(60, 64, 67, 0.15);\n",
              "      fill: #174EA6;\n",
              "    }\n",
              "\n",
              "    [theme=dark] .colab-df-convert {\n",
              "      background-color: #3B4455;\n",
              "      fill: #D2E3FC;\n",
              "    }\n",
              "\n",
              "    [theme=dark] .colab-df-convert:hover {\n",
              "      background-color: #434B5C;\n",
              "      box-shadow: 0px 1px 3px 1px rgba(0, 0, 0, 0.15);\n",
              "      filter: drop-shadow(0px 1px 2px rgba(0, 0, 0, 0.3));\n",
              "      fill: #FFFFFF;\n",
              "    }\n",
              "  </style>\n",
              "\n",
              "      <script>\n",
              "        const buttonEl =\n",
              "          document.querySelector('#df-033c6902-3c69-434e-b702-fef0b87fdd51 button.colab-df-convert');\n",
              "        buttonEl.style.display =\n",
              "          google.colab.kernel.accessAllowed ? 'block' : 'none';\n",
              "\n",
              "        async function convertToInteractive(key) {\n",
              "          const element = document.querySelector('#df-033c6902-3c69-434e-b702-fef0b87fdd51');\n",
              "          const dataTable =\n",
              "            await google.colab.kernel.invokeFunction('convertToInteractive',\n",
              "                                                     [key], {});\n",
              "          if (!dataTable) return;\n",
              "\n",
              "          const docLinkHtml = 'Like what you see? Visit the ' +\n",
              "            '<a target=\"_blank\" href=https://colab.research.google.com/notebooks/data_table.ipynb>data table notebook</a>'\n",
              "            + ' to learn more about interactive tables.';\n",
              "          element.innerHTML = '';\n",
              "          dataTable['output_type'] = 'display_data';\n",
              "          await google.colab.output.renderOutput(dataTable, element);\n",
              "          const docLink = document.createElement('div');\n",
              "          docLink.innerHTML = docLinkHtml;\n",
              "          element.appendChild(docLink);\n",
              "        }\n",
              "      </script>\n",
              "    </div>\n",
              "  </div>\n",
              "  "
            ]
          },
          "metadata": {},
          "execution_count": 7
        }
      ],
      "source": [
        "plt.rcParams[\"figure.figsize\"] = [16, 12]\n",
        "print(\"BOXPLOTS\\n\")\n",
        "sns.boxplot(data=x_train)\n",
        "plt.show()\n",
        "\n",
        "x_train.describe()"
      ]
    },
    {
      "cell_type": "markdown",
      "metadata": {
        "id": "SJQrF652QF7B"
      },
      "source": [
        "**(4)** El gráfico de BoxPlot es bastante útil a la hora de visualizar datos numéricos por medio de sus cuartiles. De esta forma, los valores de la población están dentro de la caja. Los puntos individuales fuera de ella indican outliers (no tienen por qué serlo), datos que están muy distantes del resto de observaciones, por lo que se sugiere que un outlier está fuera de lo que queremos estudiar, no nos aporta información. Además si nos fijamos en la tabla de datos, podemos ver como algunas columnas se ven claramente afectadas en la media, mientras que la mediana no es tan afectada por los outliers.\n",
        "\n",
        "Podemos ver pues, que nuestros datos tienen claros outliers, los cuales serán manejados más adelante en el preprocesado de datos. Para ello utilizaremos el Local Outlier Factor. En principio iba a utilizar el z-score cuya métrica nos dice como de lejos está un punto de la media, es una medida de cuantas desviaciones estándar por debajo o por encima de la media de la población tiene una puntuación. Una puntuación en z-score de 3 significa que está en el rango de +3 o -3 desviaciones estándar (a la izquerda o derecha más alejada de la distribución). Los valores que sobrepasen este umbral normalmente son considerados outliers. En nuestro caso, nuestros datos no están uniformemente distribuidos, por lo que puede ocurrir que el umbral nos corte ciertos outliers, pero no todos."
      ]
    },
    {
      "cell_type": "code",
      "execution_count": 8,
      "metadata": {
        "colab": {
          "base_uri": "https://localhost:8080/",
          "height": 622
        },
        "id": "HuM3UUrKaQeK",
        "outputId": "62e296ef-691e-490d-a733-d192fd7337fb"
      },
      "outputs": [
        {
          "output_type": "stream",
          "name": "stdout",
          "text": [
            "BOXPLOT EDAD\n",
            "\n"
          ]
        },
        {
          "output_type": "display_data",
          "data": {
            "text/plain": [
              "<Figure size 576x576 with 1 Axes>"
            ],
            "image/png": "[encoded data removed]"
          },
          "metadata": {
            "needs_background": "light"
          }
        },
        {
          "output_type": "stream",
          "name": "stdout",
          "text": [
            "\n",
            "Outliers:  387\n",
            "\n",
            "Cantidad de ejemplos en personas 'edad':  36168\n",
            "\n",
            "Porcentaje de outliers frente al total:  1.0700066357000664\n"
          ]
        }
      ],
      "source": [
        "plt.rcParams[\"figure.figsize\"] = [8, 8]\n",
        "print(\"BOXPLOT EDAD\\n\")\n",
        "sns.boxplot(data=x_train.age)\n",
        "plt.show()\n",
        "\n",
        "g_than70 = x_train.age[x_train.age > 70].value_counts().sum()\n",
        "total_age = x_train.age.size\n",
        "\n",
        "print(\"\\nOutliers: \", g_than70)\n",
        "print(\"\\nCantidad de ejemplos en personas 'edad': \", total_age)\n",
        "print(\"\\nPorcentaje de outliers frente al total: \", (g_than70/total_age)*100)"
      ]
    },
    {
      "cell_type": "markdown",
      "metadata": {
        "id": "v5YgfGvFaN0n"
      },
      "source": [
        "**(5)** En el caso de la edad vemos que hay un porcentaje de outliers de apenas el 1% de la población total, por lo que eliminarlos no es una pérdida y le estamos haciendo un favor al modelo. Estos se encuentran en el rango de edad de 70 a 90+ años. Claramente podría haber ejemplos fuera de la muestra de personas en este rango, pero si el conjunto de datos solo tiene unos pocos ejemplos dentro de este intervalo, el modelo apenas podría aprender nada y no supondría un aporte de información."
      ]
    },
    {
      "cell_type": "code",
      "execution_count": 9,
      "metadata": {
        "colab": {
          "base_uri": "https://localhost:8080/",
          "height": 804
        },
        "id": "4e_VBw-xcPqS",
        "outputId": "2dca986e-4b0a-4621-9ae6-476cfae71c2c"
      },
      "outputs": [
        {
          "output_type": "stream",
          "name": "stdout",
          "text": [
            "Columnas con algún valor 'unknown':\n",
            "---- job ---\n",
            "---- education ---\n",
            "---- contact ---\n",
            "---- poutcome ---\n",
            "\n"
          ]
        },
        {
          "output_type": "display_data",
          "data": {
            "text/plain": [
              "<Figure size 864x864 with 4 Axes>"
            ],
            "image/png": "[encoded data removed]"
          },
          "metadata": {
            "needs_background": "light"
          }
        }
      ],
      "source": [
        "# Vemos que columnas contienen unknown\n",
        "print(\"Columnas con algún valor 'unknown':\")\n",
        "for c in x_train.columns[x_train.isin(['unknown']).any()]:\n",
        "    print(\"---- %s ---\" % c)\n",
        "print()\n",
        "\n",
        "fig, axes = plt.subplots(nrows=2, ncols=2, figsize=(12,12))\n",
        "\n",
        "x_train['job'].value_counts().plot(kind='barh', ax=axes[0,0])\n",
        "x_train['education'].value_counts().plot(kind='barh', ax=axes[0,1])\n",
        "x_train['contact'].value_counts().plot(kind='barh', ax=axes[1,0])\n",
        "x_train['poutcome'].value_counts().plot(kind='barh', ax=axes[1,1])\n",
        "plt.show()"
      ]
    },
    {
      "cell_type": "markdown",
      "metadata": {
        "id": "f-sLCXkelI6X"
      },
      "source": [
        "**(6)** Creamos gráficas para aquellas columnas que contengan valores desconocidos. Con esta visualización vemos que columnas son unknown. En el caso de poutcome, podemos ver que la gran mayoría de valores que toma esta columna son desconocidos y por tanto podríamos pensar que irrelevantes. Pese a ello, unknown es distinto de nulo, podrían a pesar de todo aportar algo de información ya que dependiendo de este valor la etiqueta puede cambiar."
      ]
    },
    {
      "cell_type": "code",
      "execution_count": 10,
      "metadata": {
        "id": "KooiEWVK6MRx"
      },
      "outputs": [],
      "source": [
        "def sin_transformer(period):\n",
        "\treturn FunctionTransformer(lambda x: np.sin(x / period * 2 * np.pi))"
      ]
    },
    {
      "cell_type": "markdown",
      "metadata": {
        "id": "RHlED4ST6Ooz"
      },
      "source": [
        "**(7)** Hemos definido esta función, la cual está sacada del siguiente enlace visitado -> [transformaciones para datos cíclicos](https://developer.nvidia.com/blog/three-approaches-to-encoding-time-information-as-features-for-ml-models/). La usaremos más tarde para transformar los meses. Como parámetro le pasamos el período del ciclo, en nuestro caso serán meses, es decir, período 12. Esto lo realizamos ya que es lógico que al tener información cíclica haya conexiones más fuertes entre datos más cercanos entre sí (como Enero y Febrero o Febrero y Marzo). Esta función utiliza un FunctionTransformer que se encarga de reenviar sus argumentos a una función u objeto de función definido por el usuario, después devuelve el resultado de esta función."
      ]
    },
    {
      "cell_type": "code",
      "execution_count": 11,
      "metadata": {
        "colab": {
          "base_uri": "https://localhost:8080/"
        },
        "id": "3ebL6OhpWCb8",
        "outputId": "2db5c854-faa7-4523-8432-218f34825f5a"
      },
      "outputs": [
        {
          "output_type": "stream",
          "name": "stdout",
          "text": [
            "Tamaño de x_train antes de preprocesado:  36168\n",
            "Características antes de variancethreshold:  36\n",
            "Características después de variancethreshold:  36\n",
            "Tamaño de x_train después de preprocesado:  35444\n",
            "Características antes de variancethreshold:  36\n",
            "Características después de variancethreshold:  36\n",
            "Porcentaje de valores outliers eliminados:  2.0017695200176933 %\n"
          ]
        }
      ],
      "source": [
        "# Función para preprocesamiento de datos\n",
        "def preProcData(c_datos, labels):\n",
        "  ordinal_encoder = OrdinalEncoder()\n",
        "\n",
        "  c_datos = c_datos.join(labels)\n",
        "\n",
        "  # Transformamos variables textuales a numéricas\n",
        "  c_datos = pd.concat([c_datos, pd.get_dummies(c_datos['job'], prefix='job')],axis=1)\n",
        "  c_datos.drop(['job'],axis=1, inplace=True)\n",
        "\n",
        "  c_datos = pd.concat([c_datos, pd.get_dummies(c_datos['education'], prefix='education')],axis=1)\n",
        "  c_datos.drop(['education'],axis=1, inplace=True)\n",
        "\n",
        "  c_datos = pd.concat([c_datos, pd.get_dummies(c_datos['contact'], prefix='contact')],axis=1)\n",
        "  c_datos.drop(['contact'],axis=1, inplace=True)\n",
        "\n",
        "  c_datos = pd.concat([c_datos, pd.get_dummies(c_datos['marital'], prefix='marital')],axis=1)\n",
        "  c_datos.drop(['marital'],axis=1, inplace=True)\n",
        "\n",
        "  c_datos = pd.concat([c_datos, pd.get_dummies(c_datos['poutcome'], prefix='poutcome')],axis=1)\n",
        "  c_datos.drop(['poutcome'],axis=1, inplace=True)\n",
        "\n",
        "  c_datos[['month']] = ordinal_encoder.fit_transform(c_datos[['month']])\n",
        "\n",
        "  # Transformamos variables cíclicas\n",
        "  c_datos[['month']] = sin_transformer(12).fit_transform(c_datos[['month']])\n",
        "  c_datos[['day']] = sin_transformer(31).fit_transform(c_datos[['day']])\n",
        "\n",
        "  # Eliminamos columna con información no buena para el aprendizaje \n",
        "  c_datos = c_datos.drop(columns = ['duration'])\n",
        "\n",
        "  # Tranformamos variables binarias a 1 o -1\n",
        "  c_datos = c_datos.replace(['yes'],1)\n",
        "  c_datos = c_datos.replace(['no'],-1)\n",
        "\n",
        "  # Quitamos outliers\n",
        "  LOF = LocalOutlierFactor(contamination=0.02)\n",
        "  outliers = LOF.fit_predict(c_datos)\n",
        "\n",
        "  # Eliminamos los datos que son considerados outliers (-1)\n",
        "  c_datos = c_datos[outliers != -1]\n",
        "\n",
        "  # Borramos datos nulos si los hay\n",
        "  c_datos.dropna(inplace=True)\n",
        "\n",
        "  c_labels = c_datos.loc[:,'y']\n",
        "  c_datos = c_datos.loc[:, c_datos.columns != 'y']\n",
        "\n",
        "  print(\"Características antes de variancethreshold: \", c_datos.shape[1])\n",
        "  # Los datos cuya variabilidad sea nula (0) serán eliminados\n",
        "  selector = VarianceThreshold(threshold=0)\n",
        "  c_datos = selector.fit_transform(c_datos)\n",
        "  print(\"Características después de variancethreshold: \", c_datos.shape[1])\n",
        "\n",
        "  # Estandarizamos los datos\n",
        "  scaler = StandardScaler()\n",
        "  c_datos = scaler.fit_transform(c_datos)\n",
        "\n",
        "  return c_datos, c_labels\n",
        "\n",
        "print(\"Tamaño de x_train antes de preprocesado: \", x_train.shape[0])\n",
        "before_outliers = x_train.shape[0]\n",
        "x_train, y_train = preProcData(x_train, y_train)\n",
        "print(\"Tamaño de x_train después de preprocesado: \", x_train.shape[0])\n",
        "after_outliers = x_train.shape[0]\n",
        "\n",
        "x_test, y_test = preProcData(x_test, y_test)\n",
        "\n",
        "print(\"Porcentaje de valores outliers eliminados: \", (1-(after_outliers/before_outliers))*100, \"%\")"
      ]
    },
    {
      "cell_type": "markdown",
      "metadata": {
        "id": "3GFi-ouv2Mxg"
      },
      "source": [
        "#Preprocesado de datos\n",
        "**(8)** Definimos función para el preprocesamiento de datos. En primer lugar utilizamos la función de \"get_dummies\" de pandas la cual nos transforma cadenas de caracteres en una codificación numérica. De esta forma podemos transformar las variables que representen categorías en dígitos.\n",
        "\n",
        "En el caso de las clases que tengan valores 'unknown' decido dejarlos y transformarlos igualmente. Podría parecer que valores desconocidos son irrelevantes, pero no representan exactamente lo mismo que valores nulos o NaN, por lo que pueden ayudar en el aprendizaje.\n",
        "\n",
        "En caso de ser nulos podriamos sustituir con la media los valores NaN, que tiene el beneficio de que no cambia la media de la muestra, pero en nuestro caso como hemos visto anteriormente, tenemos outliers, por lo que la media puede estar afectada en gran medida por estos. Por ello en vez de cambiar valores nulos por la media, podríamos optar por la mediana, que como hemos visto anteriormente en el análisis de datos, no se ve tan afectada. Igualmente añadir información por nuestra cuenta puede distorsionar la generalidad de nuestro modelo. \n",
        "\n",
        "La categoría 'duration' representa la duración del último contacto. Este atributo afecta claramente al output, si la duración=0 el output es un 'no'. Por ello, al no saber la duración antes de la llamada este input no debería ser incluido (si además la duración es de 0 ya sabemos la respuesta).\n",
        "\n",
        "De igual manera transformamos las variables binarias que aparezcan en forma de texto (en nuestro caso \"yes\" y \"no\") a números. Elegimos la representación binaria de 1 y -1, pero podría utilizarse cualquier otra codificación.\n",
        "\n",
        "Como explicamos anteriormente, vamos a basarnos en la puntuación que nos proporcione la función Local Outlier Factor para filtrar outliers.\n",
        "\n",
        "Lo siguiente que hace la función es estandarizar los datos ya que los algoritmos de aprendizaje no funcionan muy bien cuando hay una diferencia muy notable entre datos. Para ello utilizamos la herramienta de escalado StandardScaler. Estandarizar las características alrededor del centro y 0 con una desviación estándar de 1 es importante cuando comparamos medidas que tienen diferentes unidades. Las variables que se miden en diferentes escalas no contribuyen por igual al análisis y pueden terminar creando un sesgo y en nuestro caso es así.\n",
        "\n",
        "Referente a la variabilidad de las características, el coeficiente de variación toma valores entre 0 y 1. Si el coeficiente es próximo al 0, significa que existe poca variabilidad en los datos. Nosotros vamos a indicar que nuestro límite es 0, aunque VarianceThreshold ya lo implementa por defecto. Esto lo hago de esta manera, ya que la varianza depende de la escala de los datos, y normalmente no es un buen aproximador de como de buena es una característica (además nuestros datos se mueven en distintas escalas). Aunque esto sea así, una característica con 0 variabilidad sí que podríamos decir con exactitud que no aporta nada, pues su valor es igual para todas las observaciones y por tanto no añade información. Por ello nuestro límite será 0.\n",
        "\n",
        "La función de procesamiento de etiquetas simplemente cambia los 'yes' por 1 y los 'no' por 0."
      ]
    },
    {
      "cell_type": "markdown",
      "metadata": {
        "id": "DHhXUkJUqY6z"
      },
      "source": [
        "**(9)** Referente al tema de outliers he optado por utilizar Local Outlier Factor, el cuál funciona bien para conjuntos de datos con pocas características (en nuestro caso 36, son pocas en comparación a casos reales).\n",
        "\n",
        "La puntuación de anomalías de Local Outlier Factor mide la desviación local de la densidad de una muestra dada con respecto a sus vecinos. A más aislado esté el punto mayor puntuación tendrá. La localidad se da respecto a los k vecinos mas cercanos, cuya distancia se usa para estimar la densidad local.\n",
        "\n",
        "La cantidad de contaminación del conjunto de datos es la proporción de outliers en el conjunto, se utiliza como umbral para las puntuaciones y esta suele ir entre 0 y 0.5. En nuestro caso definiremos 0.02 para un 2% de datos de outliers como mucho, ya que no deberíamos eliminar más de un 5% del total de datos."
      ]
    },
    {
      "cell_type": "code",
      "execution_count": null,
      "metadata": {
        "id": "If2Ydfxhcnm1"
      },
      "outputs": [],
      "source": [
        "# Hacemos la selección de hiperparámetros usando cross validation para LR\n",
        "def featureSelectionLR(x_train,y_train,folds):\n",
        "    parameters = [{'penalty':['l1','l2'],'C':[1,10,100,1000,10000],'solver':['liblinear'],'class_weight':[{1:0.9, -1:0.1}]}]\n",
        "    logic_regression = linear_model.LogisticRegression(max_iter=1000)\n",
        "    g_ = GridSearchCV(logic_regression, parameters, cv=folds, scoring='recall')\n",
        "    g_.fit(x_train,y_train)\n",
        "    print(\"Logistic-regression:\\n----------------\")\n",
        "    print(\"Hiperparámetros: \", g_.best_params_)\n",
        "    print(\"Accuracy: \", metrics.accuracy_score(y_train, g_.best_estimator_.predict(x_train)))\n",
        "    print(\"Recall: \", metrics.recall_score(y_train, g_.best_estimator_.predict(x_train), pos_label=1))\n",
        "    print(\"F1: \", metrics.f1_score(y_train, g_.best_estimator_.predict(x_train), pos_label=1))\n",
        "    return g_\n",
        "\n",
        "# Hacemos la selección de hiperparámetros usando cross validation para PLA\n",
        "def featureSelectionPLA(x_train,y_train,folds):\n",
        "    parameters = [{'penalty':['l1','l2'],'alpha':[0.1,0.01,0.001,0.0001,0.00001],'class_weight':[{1:0.9, -1:0.1}]}]\n",
        "    perceptron = linear_model.Perceptron(early_stopping=True,n_iter_no_change=1,max_iter=1000)\n",
        "    g_ = GridSearchCV(perceptron, parameters, cv=folds, scoring='recall')\n",
        "    g_.fit(x_train,y_train)\n",
        "    print(\"PLA:\\n----------------\")\n",
        "    print(\"Hiperparámetros: \", g_.best_params_)\n",
        "    print(\"Accuracy: \", metrics.accuracy_score(y_train, g_.best_estimator_.predict(x_train)))\n",
        "    print(\"Recall: \", metrics.recall_score(y_train, g_.best_estimator_.predict(x_train), pos_label=1))\n",
        "    print(\"F1: \", metrics.f1_score(y_train, g_.best_estimator_.predict(x_train), pos_label=1))\n",
        "    return g_\n",
        "\n",
        "# Hacemos la selección de hiperparámetros usando cross validation para dummy\n",
        "def featureSelectionDummy(x_train,y_train,folds):\n",
        "    parameters = [{'strategy':['constant'], 'constant':[1]}]\n",
        "    dummy = DummyClassifier()\n",
        "    g_ = GridSearchCV(dummy, parameters, cv=folds, scoring='recall')\n",
        "    g_.fit(x_train,y_train)\n",
        "    print(\"PLA:\\n----------------\")\n",
        "    print(\"Hiperparámetros: \", g_.best_params_)\n",
        "    print(\"Accuracy: \", metrics.accuracy_score(y_train, g_.best_estimator_.predict(x_train)))\n",
        "    print(\"Recall: \", metrics.recall_score(y_train, g_.best_estimator_.predict(x_train), pos_label=1))\n",
        "    print(\"F1: \", metrics.f1_score(y_train, g_.best_estimator_.predict(x_train), pos_label=1))\n",
        "    return g_\n",
        "\n",
        "# DESCOMENTAR PARA PROBAR DIFERENTES K PARA CV\n",
        "#for i in range(5,11):\n",
        "#  print(\"\\n----CROSS-VALIDATION PARA \", i, \" PARTICIONES----\")\n",
        "#  best_model_LR = featureSelectionLR(x_train,y_train,i)\n",
        "#  best_model_PLA = featureSelectionPLA(x_train,y_train,i)\n",
        "\n",
        "best_model_LR = featureSelectionLR(x_train,y_train,5)\n",
        "best_model_PLA = featureSelectionPLA(x_train,y_train,5)\n",
        "best_model_Dummy = featureSelectionDummy(x_train,y_train,5)\n",
        "\n",
        "# Hacemos test para LR\n",
        "def LogisticRegression(x_train, y_train, x_test, y_test, best_model):\n",
        "  g = linear_model.LogisticRegression(**best_model.best_params_).fit(x_train, y_train)\n",
        "  predictions = g.predict(x_test)\n",
        "  score = g.score(x_test,y_test)\n",
        "  print(\"E_test:\", 1-score)\n",
        "  print(\"Recall: \", metrics.recall_score(y_test, g.predict(x_test), pos_label=1))\n",
        "  print(\"F1: \", metrics.f1_score(y_test, g.predict(x_test), pos_label=1))\n",
        "  return g, predictions, score\n",
        "\n",
        "print(\"\\n\\n----------- RESULTADOS CONJUNTO TEST -----------\\n\\n\")\n",
        "\n",
        "model_LR, predictions_LR, etest = LogisticRegression(x_train, y_train, x_test, y_test, best_model_LR)"
      ]
    },
    {
      "cell_type": "markdown",
      "metadata": {
        "id": "DFBOWQydfBnp"
      },
      "source": [
        "#Formulación hipótesis y entrenamiento\n",
        "**(10)** Definimos dos funciones de selección de parámetros usando cross-validation para regresión logística y para Percetron con early-stopping. Hemos elegido los modelos lineales de PLA (sklearn no incluye pocket) y de regresión logística para nuestro problema de clasificación. Escogeremos el modelo que mejor resultados dé dado un criterio de evaluación. La manera en que este modelo será seleccionado será mediante la aplicación distintos tipos de regularizadores y distintas cantidades de regularización. \n",
        "\n",
        "La mejor combinación de parámetros darán dos modelos (uno de regresión logística y otro de Perceptron + earlystoppin). El que mejor resultados arroje será el elegido.\n",
        "\n",
        "Como añadido hemos añadido un clasificador Dummy, el cual no tiene en cuenta los datos de entrada para absolutamente nada. Le pasamos por parámetros la estrategia, en nuestro caso 'constant', lo cual hace que siempre prediga una clase constante que nosotros le pasaremos por parámetro. Es un clasificador sin criterio alguno.\n",
        "\n",
        "Como parámetros estáticos hemos seleccionado que nuestro modelo debe tener earlystopping en el momento de aprendizaje (PLA). Este parámetro indica que tras unas cuantas épocas sin mejorar el algoritmo deberá parar. El número de épocas viene determinado por n_iter_no_change. Estos dos últimos son sobre todo por cuestiones de tiempo, ya que el algoritmo podía tardar muchos minutos y arrojar una solución igual de buena que con earlystopping (de hecho tras varias ejecuciones, es así, de ahí la elección de épocas = 1).\n",
        "\n",
        "Vamos a utilizar cross-validation, el cual nos dará una estimación sin sesgo del $E_{out}$. La potencia de este tipo de validación es poder usar más muestras para el entrenamiento siendo estas independientes de las particiones de validación. Consiste en realizar la media de las medidas obtenidas en diferentes particiones. En nuestro caso utilizaremos 5-fold cross validation, creando como el propio nombre indica 5 particiones de los datos disjuntas. Esta variante es más rápida que simplemente usar cross-validation. Utilizaremos 5 particiones en nuestro caso (lo común son 10, pero depende del problema). En mi caso he probado varios números de particiones con resultados muy similares (el bucle for que comprueba resultado está comentado por ahorro de tiempo de ejecución). \n",
        "\n",
        "Dentro de la función GridSearchCV que realiza el cross-validation para la estimación de los hiperparámetros se encuentra el estimador (logistic-resgression o PLA), los parámetros a estimar, número de folds para cross validaton (por defecto se aplica Stratified, lo cuál indica que se preseva en cada fold el porcentaje de ejemplos por clase), y el parámetro scoring, al cual debemos pasarle el tipo de métrica que decidirá que modelo es más prometedor según nuestros intereses."
      ]
    },
    {
      "cell_type": "markdown",
      "metadata": {
        "id": "4YYPvEhBdg4E"
      },
      "source": [
        "**(11)** A estos modelos les hemos aplicado distintos tipos de regularizadores y distintas cantidades de regularización. Los regularizadores usados se especifican en los parámetros de 'penalty' y son:\n",
        "* Regularizador Lasso (l1): este tipo de regularizacin minimiza la siguiente expresión:\n",
        "\n",
        "  $min_{w,c}\\frac{1}{2}w^Tw+C\\sum_{i=1}^{N}log(exp(-y_i(X_i^Tw+c))+1).$   \n",
        "  \n",
        "  Esta es efectiva cuando los atributos de entrada sean irrelevantes o así lo sospechemos, pues algunos coeficientes pueden acabar valiendo 0. De esta forma tendremos solo algunos atributos relevantes, nuestra complejidad será mejor y tendremos una mejor generalización. Funciona mejor cuando no hay demasiada relación entre atributos.\n",
        "* Regularizador Ridge (l2): se minimiza la siguiente expresión:\n",
        "\n",
        "  $min_{w,c}||w||_1+C\\sum_{i=1}^{N}log(exp(-y_i(X_i^Tw+c))+1).$ \n",
        "\n",
        "  Esta se suele utilizar cuando, al contrario que en l1 (lasso), sospechamos que los atributos si tienen conexiones más fuertes entre ellos. Ridge se encarga de minimizar los coeficientes.\n",
        "\n",
        "En nuestro caso el regularizador más apto podría ser l1 debido a que los atributos de nuestro problema parecen más dispersos entre sí, sin tener una fuerte correlación entre ellos. Ejemplos de atributos sin fuerte relación entre ellos podrían ser la edad del cliente, su educación, el número de días desde la última vez que el cliente fue contactado etc.\n",
        "\n",
        "Dentro de regresión logística podemos ver en los parámetros que utilizamos el algoritmo de optimización 'liblinear'. Mis motivos para ello son que puede utilizar los dos tipos de regularizadores, a diferencia de Newton, y que el hecho de que no pueda aprender un problema multiclase no nos afecta (nuestro caso es un problema binario). Podemos observar tambien algunos parámetros como $C$ o $\\lambda$ (alpha). A mayor sea $C$ menor será la restricción impuesta por el regularizador, en cambio $\\lambda$ al ser la inversa de $C$, a mayor tamaño mayor cantidad de regularización. Hay otro parámetros como multi-class, pero por defecto se asigna a 'auto', lo cual hace que se adecue al problema binario.\n",
        "También tenemos el parámetro 'tol' el cual hace referencia a la tolerancia como criterio de parada, por defecto está asignada a 1e-4.\n",
        "\n",
        "Además hemos añadido como último parámetro un peso de importancia para las clases. Hemos visto al principio que existe un claro desbalanceo de clases, siendo la mayoría de ejemplos clasificados con 'no' mientras solo unos pocos estaban clasificados con 'si'. Para solucionar esto e intentar que nuestro modelo no se ajuste únicamente con la clase mayoritaria hemos introducido unos pesos que le dan un porcentaje de importancia mayor a 'si'. Además, es la clase que más nos interesa desde el punto de vista de la empresa, nos interesa saber qué clientes sí van a hacer un depósito en el banco, los 'no' son mucho más irrelevantes.\n",
        "\n",
        "Por ello introduzco mucho más peso a la clase 1 ('yes') que a la clase -1, pero sin ser demasiado exagerado, ya que a partir de 90% de peso quizá estoy adecuando demasiado mis preferencias dentro del aprendizaje. Con valores inferiores al 80% no se observa demasiado cambio, debido al bajo número de ejemplos que presenta la clase 1."
      ]
    },
    {
      "cell_type": "markdown",
      "metadata": {
        "id": "Y8Wrpz7jdKTl"
      },
      "source": [
        "#Validación\n",
        "**(12)** Utilizamos la función GridSearchCV la cuál dado unos parámetros se encarga mediante una búsqueda exhaustiva de especificar la mejor combinación de los mismos para el modelo final. Hace uso de cross-validation para seleccionar los mejores parámetros para el modelo. Usamos como métrica de puntuación de parámetros scoring='recall' la cuál va a indicar a GridSearchCV que selecione el modelo que mejor resultados dé en esa métrica. Pese a ello, la elección se guiará no solo por recall. Un algoritmo prácticamente aleatorio podría darnos resultados muy buenos en recall, valoraremos el conjunto de métricas (sobre todo f1-score, recall y accuracy)\n",
        "\n",
        "'Recall' es el ratio de positivos verdaderos / (positivos verdaderos + falsos negativos). Esta métrica viene a darnos el porcentaje de una cierta clase correctamente identificada (lo cuál nos interesa en este problema, en concreto con la clase 'yes').\n",
        "\n",
        "'F1' combina las métricas precision y recall del clasificador utilizando su media armónica. F1 = (precision * recall) / (precision + recall). Se suele utilizar para medir la calidad de los clasificadores, si uno da mejores resultados en recall, pero el otro es mejor en precision, el f1-score nos ayudará a comprobar cuál es de mejor calidad.\n",
        "\n",
        "Una vez hecha la selección de modelos mostramos por pantalla los resultados de las métricas del mejor modelo de Regresión Logística y de PLA con earlystopping. También mostramos los parámetros que mejor resultado han dado en la selección."
      ]
    },
    {
      "cell_type": "markdown",
      "metadata": {
        "id": "BswRRw_ghO59"
      },
      "source": [
        "#Discusión resultados\n",
        "**(13)** Podemos observar que en términos de precisión y f1 regresión logística nos da un mejor rendimiento que PLA. En términos generales, regresión logística nos da una mejores métricas en todo. PLA es cierto que presenta un recall de 90%, pese a ello como habíamos explicado antes, no nos podemos fijar en una única métrica, pues hay clasificadores totalmente aleatorios que podrían arrojar resultados similares. Por ello debemos fijarnos en las métricas del clasificador dummy, donde nos da de recall un 100%. Claremente este algoritmo sin criterio no es bueno, por ello hay que tener en cuenta varias métricas.\n",
        "\n",
        "Nos fijamos pues en que la puntuación de f1 es mejor en regresión logística, por lo que optamos por este modelo. Además, la puntuación recall es bastante buena a pesar de ser inferior que en PLA."
      ]
    },
    {
      "cell_type": "code",
      "source": [
        "eout = 1-etest + mt.sqrt(mt.log(2/0.05)/(2*x_test.shape[0]))\n",
        "print(\"Estimación Eout: \", eout)"
      ],
      "metadata": {
        "id": "-yaJI4ue-iZZ"
      },
      "execution_count": null,
      "outputs": []
    },
    {
      "cell_type": "markdown",
      "source": [
        "**(14)** Sabiendo que $E_{test}$ es una buena cota para $E_{out}$ podemos asegurar con seguridad que el error fuera de la muestra será siempre:\n",
        "  \n",
        "  * $E_{out}(g)\\leq E_{test}(g) + \\sqrt{\\frac{1}{2N}ln \\frac{2}{α}}$\n",
        "\n",
        "Dado esta fórmula calculamos la cota para el error fuera de la muestra. En este caso la variable $α=0.05$ indica que la cota es esa para una confianza del 95%."
      ],
      "metadata": {
        "id": "KDhfbq-5ApyX"
      }
    },
    {
      "cell_type": "code",
      "execution_count": null,
      "metadata": {
        "id": "xfdCfjk0tScq"
      },
      "outputs": [],
      "source": [
        "def roc_curve(m_lr,x_v,y_v):\n",
        "  plt.figure(figsize=(8,8)).clf()\n",
        "  p_lr = m_lr.predict_proba(x_v)[:,-1]\n",
        "  fpr, tpr, _ = metrics.roc_curve(y_v, p_lr)\n",
        "  auc = metrics.roc_auc_score(y_v, p_lr)\n",
        "  plt.plot(fpr,tpr,label=\"Logistic Regression, AUC=\"+str(auc))\n",
        "\n",
        "  plt.xlabel('False Positive Rate')\n",
        "  plt.ylabel('True Positive Rate')\n",
        "  plt.title('ROC curves',size=10)\n",
        "\n",
        "  plt.legend(loc=0)\n",
        "  plt.show()\n",
        "\n",
        "roc_curve(model_LR, x_test, y_test)"
      ]
    },
    {
      "cell_type": "markdown",
      "metadata": {
        "id": "pzNv0I-nXr9U"
      },
      "source": [
        "**(15)** Otra posible interpretación de la calidad de los modelos es la de la visualización de una curva ROC. La curva ROC mide la calidad de nuestro modelo respecto a los falsos positivos y a los verdaderos positivos. Cuanto más se acerque la curva a la esquina superior izquierda de mejor calidad es nuestro modelo. Vemos que LR tiene un área debajo de la curva (AUC = area under the curve) de más de 70%."
      ]
    },
    {
      "cell_type": "code",
      "execution_count": null,
      "metadata": {
        "id": "OZ8LM8JVF8nx"
      },
      "outputs": [],
      "source": [
        "def createLearningCurves(x_train, y_train, model):\n",
        "  X_train, X_val, Y_train, Y_val = train_test_split(x_train, y_train, test_size=0.2, random_state=12345)\n",
        "\n",
        "  ein = []\n",
        "  eout = []\n",
        "  N = []\n",
        "  alpha = 0.001 # porcentaje del total (a más bajo menor es el tamaño de cada muestra)\n",
        "  j = round(X_train.shape[0] * alpha)\n",
        "\n",
        "  for i in range(X_train.shape[0]):\n",
        "    model.fit(X_train[i:j],Y_train[i:j])\n",
        "    predictions = model.predict(X_train[i:j])\n",
        "    score = metrics.recall_score(Y_train[i:j], predictions)\n",
        "    ein.append(1-score)\n",
        "\n",
        "    predictions = model.predict(X_val[i:j])\n",
        "    score = metrics.recall_score(Y_val[i:j], predictions)\n",
        "    eout.append(1-score)\n",
        "    N.append(j)\n",
        "\n",
        "    alpha += 0.001\n",
        "    i = j + 1\n",
        "\n",
        "    if i >= X_train.shape[0]:\n",
        "      break\n",
        "\n",
        "    if (j + round(X_train.shape[0] * alpha)) < X_train.shape[0]:\n",
        "      j = j + round(X_train.shape[0] * alpha)\n",
        "    else:\n",
        "      j = X_train.shape[0]\n",
        "\n",
        "  return ein, eout, N\n",
        "\n",
        "einLR, eoutLR, N = createLearningCurves(x_train, y_train, model_LR)"
      ]
    },
    {
      "cell_type": "code",
      "execution_count": null,
      "metadata": {
        "id": "ORSYq2BYNnOB"
      },
      "outputs": [],
      "source": [
        "def learning_curves(ein, eout, N):\n",
        "  plt.figure(figsize=(7,7))\n",
        "  x1 = N\n",
        "  y1 = ein\n",
        "  x2 = N\n",
        "  y2 = eout\n",
        "\n",
        "  plt.plot(x1, y1, c = 'b', label = \"E_in\")\n",
        "  plt.plot(x2, y2, c = 'r', label = \"E_test\")\n",
        "  plt.xlabel(\"Number of data points, N\")\n",
        "  plt.ylabel(\"Error\")\n",
        "  plt.legend()\n",
        "\n",
        "  plt.show()\n",
        "\n",
        "print(\"---- LEARNING CURVES LR ----\\n\")\n",
        "learning_curves(einLR, eoutLR, N)"
      ]
    },
    {
      "cell_type": "markdown",
      "metadata": {
        "id": "NvCfKJoiYQG6"
      },
      "source": [
        "**(16)** Analizando las curvas de aprendizaje de nuestro modelo de LR podemos observar como la curva del error dentro de la muestra (dentro del training set) aumenta drásticamente al principio, después de un pequeño pozo vuelve a subir y se estabiliza (el error ya no sube). Con validación ocurre que comienza teniendo un error alto y después de un salto empieza a disminuir hasta estabilizarse por encima del error dentro de la muestra. Estas curvas podrían interpretarse con un modelo que tiene capacidad y potencial de aprender, pese a ello el error sigue siendo quizá demasiado alto, por lo que es posible que la cantidad de datos sea insuficiente o el conjunto de datos no sea del todo representativo del problema que queremos resolver. De todas maneras, las curvas indican un proceso de aprendizaje.\n",
        "\n",
        "Vemos como ambas curvas se siguen, y es que si N es suficientemente grande es muy probable que sea cercano al error out of sample (debido a la desigualdad de Hoeffding). \n",
        "\n",
        "  * $P[|E_{in} - E_{out}| > ε] \\leq 2e^{-2ε^2N}$"
      ]
    },
    {
      "cell_type": "markdown",
      "metadata": {
        "id": "fOis9CP7eR9v"
      },
      "source": [
        "#Empresa\n",
        "**(17)** Si fuese una persona dentro de una empresa a la que le han encargado realizar este ajuste sin distinción entre training y test debería tener varias cosas en cuenta.\n",
        "\n",
        "Tenemos que saber lo que implica usar un conjunto de validación, y es que el conjunto de validación es casi idéntico al conjunto de test. Retiramos un subconjunto de los datos que no es usado en training y luego lo utilizamos para testar los resultados y estimar $E_{out}$. A pesar de que este conjunto no se usa en el training, sí que influye en cierta medida en el proceso de entrenamiento, pero lo hace de manera tan benigna que Eout apenas se ve afectado, por lo que es una buena manera de estimar $E_{out}$.\n",
        "\n",
        "Pese a ello, también hay que tener en cuenta el tamaño del conjunto de validación. Como ya comentamos en la división de datos si el tamaño del conjunto training es demasiado pequeño (conjunto de validación muy grande), nuestra hipótesis candidata será peor pues tiene menos datos para entrenarse. Por el contrario, si el tamaño del conjunto validación es muy pequeño, nuestra varianza se disparará.\n",
        "\n",
        "Por ello estimar un tamaño adecuado es crucial para la buena selección de nuestro modelo.\n",
        "\n",
        "Otra cosa a tener en cuenta es no usar los datos de validación/test para absolutamente nada. Si los usasemos para el análisis cabría la posibilidad de estar guiando nuestras decisiones para adaptar el modelo lo mejor posible a esos datos, pero, ¿cuando lleguen el resto de muestras?. Nuestro modelo debe saber generalizar, no podemos adaptarlo a una muestra concreta. Mucho menos deberíamos validar con los mismos datos que entrenamos, estaríamos estimando un error muy optimista, lo cual no será ni mucho menos preciso a la hora de usarlo fuera de la muestra de entrenamiento. \n",
        "\n",
        "El $E_{out}$ dado debería ser una cota de este, garantizando que nunca superará este umbral. Por ello, si calculamos $E_{test}$ podríamos tener también una estimación realista del error fuera de muestra, como hemos hecho antes al estimarlo en apartados anteriores."
      ]
    }
  ],
  "metadata": {
    "colab": {
      "collapsed_sections": [],
      "provenance": []
    },
    "kernelspec": {
      "display_name": "Python 3",
      "name": "python3"
    },
    "language_info": {
      "name": "python"
    }
  },
  "nbformat": 4,
  "nbformat_minor": 0
}