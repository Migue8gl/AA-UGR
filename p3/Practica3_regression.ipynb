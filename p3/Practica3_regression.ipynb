{
  "cells": [
    {
      "cell_type": "markdown",
      "metadata": {
        "id": "j3q0IA04T0zu"
      },
      "source": [
        "# Práctica 3 - Ajuste de Modelos Lineales\n",
        "\n",
        "### Alumno: MIGUEL GARCÍA LÓPEZ\n",
        "### Grupo: A2\n",
        "\n",
        "Límite de entrega: 5 de Junio de 2022 a las 23:59 (PRADO)\n",
        "\n",
        "Valoración máxima: 12 puntos"
      ]
    },
    {
      "cell_type": "markdown",
      "metadata": {
        "id": "WxrOHdW_T2J8"
      },
      "source": [
        "#**2 -- (Regresión) --** \n",
        "\n",
        "#Análisis del problema\n",
        "Este conjunto de datos es un subconjunto de 'Million Song Dataset'.\n",
        "\n",
        "El dataset es cuestión es una colección de características de canciones y metadatos de un millón de temas populares.\n",
        "\n",
        "Este dataset no incluye audio, solo características derivadas.\n",
        "\n",
        "* X -> Los inputs de nuestro problemas son canciones las cuales están descompuestas en características tales como medias de timbre y covarianzas de timbres:\n",
        "  * x = [90 atributos, 12 = medias de timbre, 78 = covarianzas de timbre]\n",
        "* Y -> Los outputs esperados de nuestro problema, las etiquetas deseadas:\n",
        "  * y = [año] (año de la canción, comprendido entre 1922 y 2011)\n",
        "* F -> la función objetivo de nuestro problema sería una que dado unos datos X nos devolviera unas salidas Y con predicciones perfectas sobre si la canción en cuestión es del año que dice nuestro modelo."
      ]
    },
    {
      "cell_type": "code",
      "execution_count": 1,
      "metadata": {
        "colab": {
          "base_uri": "https://localhost:8080/"
        },
        "id": "rAfMVJ5-TuUf",
        "outputId": "bbaa14cf-8be8-4cb7-b721-f80b283a4084"
      },
      "outputs": [
        {
          "output_type": "stream",
          "name": "stdout",
          "text": [
            "Mounted at /content/drive\n"
          ]
        }
      ],
      "source": [
        "# Librerías a utilizar\n",
        "import pandas as pd\n",
        "import math as mt\n",
        "import numpy as np\n",
        "from sklearn.preprocessing import OrdinalEncoder\n",
        "from numpy import nan\n",
        "from sklearn.impute import SimpleImputer\n",
        "from scipy import stats\n",
        "from sklearn.dummy import DummyRegressor\n",
        "from sklearn.ensemble import IsolationForest\n",
        "from imblearn.over_sampling import RandomOverSampler\n",
        "from sklearn.preprocessing import RobustScaler\n",
        "from sklearn.preprocessing import MinMaxScaler\n",
        "from sklearn.preprocessing import StandardScaler\n",
        "from scipy.stats import chi2\n",
        "from sklearn.preprocessing import FunctionTransformer\n",
        "from sklearn.preprocessing import Normalizer\n",
        "from sklearn.feature_selection import VarianceThreshold\n",
        "from sklearn.compose import ColumnTransformer\n",
        "from sklearn.model_selection import train_test_split\n",
        "from sklearn.model_selection import GridSearchCV\n",
        "from sklearn.metrics import classification_report\n",
        "from sklearn.decomposition import PCA\n",
        "from sklearn import linear_model\n",
        "from sklearn import metrics\n",
        "from sklearn.pipeline import Pipeline\n",
        "import matplotlib.pyplot as plt\n",
        "import seaborn as sns\n",
        "import warnings\n",
        "warnings.filterwarnings('ignore') \n",
        "\n",
        "from google.colab import drive\n",
        "drive.mount('/content/drive')"
      ]
    },
    {
      "cell_type": "code",
      "execution_count": 2,
      "metadata": {
        "id": "rY3OOBu-WGs-"
      },
      "outputs": [],
      "source": [
        "# Clasificación\n",
        "path = '/content/drive/My Drive/Colab Notebooks/datos3/res/YearPredictionMSD.txt'\n",
        " \n",
        "# Función para lectura de datos\n",
        "def readData(path):\n",
        "  data = pd.read_csv(path, sep=',', header=None)\n",
        "  return data\n",
        "\n",
        "data = readData(path)"
      ]
    },
    {
      "cell_type": "markdown",
      "metadata": {
        "id": "t8ZIYzHlXACl"
      },
      "source": [
        "**(1)** Leemos los datos con la función readData. Esta función se encarga de leer un fichero txt gracias a las herramientas proporcionadas por la biblioteca \"Pandas\". Le pasamos como parámetros la dirección al archivo y un separador, en nuestro caso ','."
      ]
    },
    {
      "cell_type": "code",
      "execution_count": 3,
      "metadata": {
        "id": "Snsl0489WvWy",
        "colab": {
          "base_uri": "https://localhost:8080/"
        },
        "outputId": "0d2d9d3d-614b-4e8e-f077-62e46c9c0932"
      },
      "outputs": [
        {
          "output_type": "stream",
          "name": "stdout",
          "text": [
            "Tamaño de x_train:  37104840\n"
          ]
        }
      ],
      "source": [
        "# Función para dividir los datos y sus etiquetas y dividir en train y test\n",
        "def splitData(data):\n",
        "  x = data.iloc[:,1:]\n",
        "  y = data.iloc[:, 0]\n",
        "  x_train, x_test, y_train, y_test = train_test_split(x, y, test_size=0.2, random_state=12345)\n",
        "  return x_train, x_test, y_train, y_test\n",
        "\n",
        "x_train, x_test, y_train, y_test = splitData(data)\n",
        "print(\"Tamaño de x_train: \",x_train.size)"
      ]
    },
    {
      "cell_type": "markdown",
      "metadata": {
        "id": "avCBtA4CX_hn"
      },
      "source": [
        "**(2)** Creamos una función que divide el dataframe en x (datos) e y (etiquetas). Después usamos la función de sklearn de train_test_split que nos divide los datos en entrenamiento y test. Le especificamos en los parámetros que queremos un tamaño de test del 20% del total de los datos y un valor random para mezclarlos que funciona como semilla, siempre que los mezclemos con ese valor se barajarán igual, por lo que nos resulta muy conveniente para comprobar mejoras y añadidos al código sin que intervenga el azar a la hora de barajar. Hemos utilizado un 20% para test debido a las siguientes razones:\n",
        "* Si el tamaño del conjunto training es demasiado pequeño, nuestra hipótesis candidata será peor.\n",
        "* Si el tamaño del conjunto test es muy pequeño, nuestra varianza se disparará.\n",
        "\n",
        "Tenemos que obtener equilibrio, y como regla general podemos obtener una buena estimación fijando $K = \\frac{N}{5}$ (20 % de datos para test). Más adelante definiremos el conjunto de validación con cross-validation y justificaremos su uso."
      ]
    },
    {
      "cell_type": "code",
      "source": [
        "print(\"VISUALIZACIÓN DE LOS DATOS:\\n\")\n",
        "display(x_train.describe())"
      ],
      "metadata": {
        "colab": {
          "base_uri": "https://localhost:8080/",
          "height": 428
        },
        "id": "PKbm5UgIuUrG",
        "outputId": "1dfc5a47-07bf-4b0c-8257-4cab2f37b5ad"
      },
      "execution_count": 4,
      "outputs": [
        {
          "output_type": "stream",
          "name": "stdout",
          "text": [
            "VISUALIZACIÓN DE LOS DATOS:\n",
            "\n"
          ]
        },
        {
          "output_type": "display_data",
          "data": {
            "text/plain": [
              "                  1              2              3              4   \\\n",
              "count  412276.000000  412276.000000  412276.000000  412276.000000   \n",
              "mean       43.386406       1.268276       8.647337       1.174547   \n",
              "std         6.065332      51.604269      35.265387      16.325868   \n",
              "min         1.749000    -337.092500    -301.005060    -149.962040   \n",
              "25%        39.953057     -26.101460     -11.470458      -8.492973   \n",
              "50%        44.259925       8.378690      10.478560      -0.644750   \n",
              "75%        47.829145      36.112248      29.734752       8.816200   \n",
              "max        61.970140     322.362790     322.851430     335.771820   \n",
              "\n",
              "                  5              6              7              8   \\\n",
              "count  412276.000000  412276.000000  412276.000000  412276.000000   \n",
              "mean       -6.549225      -9.515874      -2.393178      -1.804235   \n",
              "std        22.867440      12.870251      14.577117       7.967911   \n",
              "min      -181.953370     -81.794290    -188.214000     -68.404510   \n",
              "25%       -20.641762     -18.444392     -10.788185      -6.483562   \n",
              "50%        -6.007530     -11.187325      -2.053475      -1.744090   \n",
              "75%         7.739600      -2.366900       6.522715       2.908455   \n",
              "max       262.068870     166.236890     172.402680     126.741270   \n",
              "\n",
              "                  9              10  ...             81             82  \\\n",
              "count  412276.000000  412276.000000  ...  412276.000000  412276.000000   \n",
              "mean        3.742752       1.888451  ...      15.712230     -73.477527   \n",
              "std        10.576201       6.535430  ...      32.100487     175.370611   \n",
              "min      -126.479040     -41.631660  ...    -437.722030   -4402.376440   \n",
              "25%        -2.275515      -2.443828  ...      -1.820833    -139.600430   \n",
              "50%         3.835905       1.785125  ...       9.123005     -53.208970   \n",
              "75%         9.966518       6.158185  ...      26.197967      13.383987   \n",
              "max       146.297950      60.345350  ...     840.973380    4469.454870   \n",
              "\n",
              "                  83             84             85             86  \\\n",
              "count  412276.000000  412276.000000  412276.000000  412276.000000   \n",
              "mean       41.516596      37.991893       0.296307      17.802302   \n",
              "std       122.216208      95.116857      16.141899     114.220531   \n",
              "min     -1810.689190   -3098.350310    -272.289050   -2678.193680   \n",
              "25%       -20.957477      -4.567147      -6.793785     -31.503952   \n",
              "50%        28.815010      33.640605       0.804600      15.672690   \n",
              "75%        89.588262      77.837187       8.452415      67.941085   \n",
              "max      3210.701700    1734.079690     242.089230    3662.065650   \n",
              "\n",
              "                  87             88             89             90  \n",
              "count  412276.000000  412276.000000  412276.000000  412276.000000  \n",
              "mean      -26.280089       4.448936      19.975862       1.321454  \n",
              "std       174.185612      13.315511     185.980027      22.102492  \n",
              "min     -4319.992320    -236.039260   -7458.378150    -381.424430  \n",
              "25%      -101.539158      -2.571710     -59.587065      -8.817493  \n",
              "50%       -21.158670       3.119280       7.645640       0.054450  \n",
              "75%        52.437155       9.970685      86.250485       9.656190  \n",
              "max      2833.608950     463.419500    7393.398440     677.899630  \n",
              "\n",
              "[8 rows x 90 columns]"
            ],
            "text/html": [
              "\n",
              "  <div id=\"df-be247443-646c-423b-a7e8-74de03edcdc5\">\n",
              "    <div class=\"colab-df-container\">\n",
              "      <div>\n",
              "<style scoped>\n",
              "    .dataframe tbody tr th:only-of-type {\n",
              "        vertical-align: middle;\n",
              "    }\n",
              "\n",
              "    .dataframe tbody tr th {\n",
              "        vertical-align: top;\n",
              "    }\n",
              "\n",
              "    .dataframe thead th {\n",
              "        text-align: right;\n",
              "    }\n",
              "</style>\n",
              "<table border=\"1\" class=\"dataframe\">\n",
              "  <thead>\n",
              "    <tr style=\"text-align: right;\">\n",
              "      <th></th>\n",
              "      <th>1</th>\n",
              "      <th>2</th>\n",
              "      <th>3</th>\n",
              "      <th>4</th>\n",
              "      <th>5</th>\n",
              "      <th>6</th>\n",
              "      <th>7</th>\n",
              "      <th>8</th>\n",
              "      <th>9</th>\n",
              "      <th>10</th>\n",
              "      <th>...</th>\n",
              "      <th>81</th>\n",
              "      <th>82</th>\n",
              "      <th>83</th>\n",
              "      <th>84</th>\n",
              "      <th>85</th>\n",
              "      <th>86</th>\n",
              "      <th>87</th>\n",
              "      <th>88</th>\n",
              "      <th>89</th>\n",
              "      <th>90</th>\n",
              "    </tr>\n",
              "  </thead>\n",
              "  <tbody>\n",
              "    <tr>\n",
              "      <th>count</th>\n",
              "      <td>412276.000000</td>\n",
              "      <td>412276.000000</td>\n",
              "      <td>412276.000000</td>\n",
              "      <td>412276.000000</td>\n",
              "      <td>412276.000000</td>\n",
              "      <td>412276.000000</td>\n",
              "      <td>412276.000000</td>\n",
              "      <td>412276.000000</td>\n",
              "      <td>412276.000000</td>\n",
              "      <td>412276.000000</td>\n",
              "      <td>...</td>\n",
              "      <td>412276.000000</td>\n",
              "      <td>412276.000000</td>\n",
              "      <td>412276.000000</td>\n",
              "      <td>412276.000000</td>\n",
              "      <td>412276.000000</td>\n",
              "      <td>412276.000000</td>\n",
              "      <td>412276.000000</td>\n",
              "      <td>412276.000000</td>\n",
              "      <td>412276.000000</td>\n",
              "      <td>412276.000000</td>\n",
              "    </tr>\n",
              "    <tr>\n",
              "      <th>mean</th>\n",
              "      <td>43.386406</td>\n",
              "      <td>1.268276</td>\n",
              "      <td>8.647337</td>\n",
              "      <td>1.174547</td>\n",
              "      <td>-6.549225</td>\n",
              "      <td>-9.515874</td>\n",
              "      <td>-2.393178</td>\n",
              "      <td>-1.804235</td>\n",
              "      <td>3.742752</td>\n",
              "      <td>1.888451</td>\n",
              "      <td>...</td>\n",
              "      <td>15.712230</td>\n",
              "      <td>-73.477527</td>\n",
              "      <td>41.516596</td>\n",
              "      <td>37.991893</td>\n",
              "      <td>0.296307</td>\n",
              "      <td>17.802302</td>\n",
              "      <td>-26.280089</td>\n",
              "      <td>4.448936</td>\n",
              "      <td>19.975862</td>\n",
              "      <td>1.321454</td>\n",
              "    </tr>\n",
              "    <tr>\n",
              "      <th>std</th>\n",
              "      <td>6.065332</td>\n",
              "      <td>51.604269</td>\n",
              "      <td>35.265387</td>\n",
              "      <td>16.325868</td>\n",
              "      <td>22.867440</td>\n",
              "      <td>12.870251</td>\n",
              "      <td>14.577117</td>\n",
              "      <td>7.967911</td>\n",
              "      <td>10.576201</td>\n",
              "      <td>6.535430</td>\n",
              "      <td>...</td>\n",
              "      <td>32.100487</td>\n",
              "      <td>175.370611</td>\n",
              "      <td>122.216208</td>\n",
              "      <td>95.116857</td>\n",
              "      <td>16.141899</td>\n",
              "      <td>114.220531</td>\n",
              "      <td>174.185612</td>\n",
              "      <td>13.315511</td>\n",
              "      <td>185.980027</td>\n",
              "      <td>22.102492</td>\n",
              "    </tr>\n",
              "    <tr>\n",
              "      <th>min</th>\n",
              "      <td>1.749000</td>\n",
              "      <td>-337.092500</td>\n",
              "      <td>-301.005060</td>\n",
              "      <td>-149.962040</td>\n",
              "      <td>-181.953370</td>\n",
              "      <td>-81.794290</td>\n",
              "      <td>-188.214000</td>\n",
              "      <td>-68.404510</td>\n",
              "      <td>-126.479040</td>\n",
              "      <td>-41.631660</td>\n",
              "      <td>...</td>\n",
              "      <td>-437.722030</td>\n",
              "      <td>-4402.376440</td>\n",
              "      <td>-1810.689190</td>\n",
              "      <td>-3098.350310</td>\n",
              "      <td>-272.289050</td>\n",
              "      <td>-2678.193680</td>\n",
              "      <td>-4319.992320</td>\n",
              "      <td>-236.039260</td>\n",
              "      <td>-7458.378150</td>\n",
              "      <td>-381.424430</td>\n",
              "    </tr>\n",
              "    <tr>\n",
              "      <th>25%</th>\n",
              "      <td>39.953057</td>\n",
              "      <td>-26.101460</td>\n",
              "      <td>-11.470458</td>\n",
              "      <td>-8.492973</td>\n",
              "      <td>-20.641762</td>\n",
              "      <td>-18.444392</td>\n",
              "      <td>-10.788185</td>\n",
              "      <td>-6.483562</td>\n",
              "      <td>-2.275515</td>\n",
              "      <td>-2.443828</td>\n",
              "      <td>...</td>\n",
              "      <td>-1.820833</td>\n",
              "      <td>-139.600430</td>\n",
              "      <td>-20.957477</td>\n",
              "      <td>-4.567147</td>\n",
              "      <td>-6.793785</td>\n",
              "      <td>-31.503952</td>\n",
              "      <td>-101.539158</td>\n",
              "      <td>-2.571710</td>\n",
              "      <td>-59.587065</td>\n",
              "      <td>-8.817493</td>\n",
              "    </tr>\n",
              "    <tr>\n",
              "      <th>50%</th>\n",
              "      <td>44.259925</td>\n",
              "      <td>8.378690</td>\n",
              "      <td>10.478560</td>\n",
              "      <td>-0.644750</td>\n",
              "      <td>-6.007530</td>\n",
              "      <td>-11.187325</td>\n",
              "      <td>-2.053475</td>\n",
              "      <td>-1.744090</td>\n",
              "      <td>3.835905</td>\n",
              "      <td>1.785125</td>\n",
              "      <td>...</td>\n",
              "      <td>9.123005</td>\n",
              "      <td>-53.208970</td>\n",
              "      <td>28.815010</td>\n",
              "      <td>33.640605</td>\n",
              "      <td>0.804600</td>\n",
              "      <td>15.672690</td>\n",
              "      <td>-21.158670</td>\n",
              "      <td>3.119280</td>\n",
              "      <td>7.645640</td>\n",
              "      <td>0.054450</td>\n",
              "    </tr>\n",
              "    <tr>\n",
              "      <th>75%</th>\n",
              "      <td>47.829145</td>\n",
              "      <td>36.112248</td>\n",
              "      <td>29.734752</td>\n",
              "      <td>8.816200</td>\n",
              "      <td>7.739600</td>\n",
              "      <td>-2.366900</td>\n",
              "      <td>6.522715</td>\n",
              "      <td>2.908455</td>\n",
              "      <td>9.966518</td>\n",
              "      <td>6.158185</td>\n",
              "      <td>...</td>\n",
              "      <td>26.197967</td>\n",
              "      <td>13.383987</td>\n",
              "      <td>89.588262</td>\n",
              "      <td>77.837187</td>\n",
              "      <td>8.452415</td>\n",
              "      <td>67.941085</td>\n",
              "      <td>52.437155</td>\n",
              "      <td>9.970685</td>\n",
              "      <td>86.250485</td>\n",
              "      <td>9.656190</td>\n",
              "    </tr>\n",
              "    <tr>\n",
              "      <th>max</th>\n",
              "      <td>61.970140</td>\n",
              "      <td>322.362790</td>\n",
              "      <td>322.851430</td>\n",
              "      <td>335.771820</td>\n",
              "      <td>262.068870</td>\n",
              "      <td>166.236890</td>\n",
              "      <td>172.402680</td>\n",
              "      <td>126.741270</td>\n",
              "      <td>146.297950</td>\n",
              "      <td>60.345350</td>\n",
              "      <td>...</td>\n",
              "      <td>840.973380</td>\n",
              "      <td>4469.454870</td>\n",
              "      <td>3210.701700</td>\n",
              "      <td>1734.079690</td>\n",
              "      <td>242.089230</td>\n",
              "      <td>3662.065650</td>\n",
              "      <td>2833.608950</td>\n",
              "      <td>463.419500</td>\n",
              "      <td>7393.398440</td>\n",
              "      <td>677.899630</td>\n",
              "    </tr>\n",
              "  </tbody>\n",
              "</table>\n",
              "<p>8 rows × 90 columns</p>\n",
              "</div>\n",
              "      <button class=\"colab-df-convert\" onclick=\"convertToInteractive('df-be247443-646c-423b-a7e8-74de03edcdc5')\"\n",
              "              title=\"Convert this dataframe to an interactive table.\"\n",
              "              style=\"display:none;\">\n",
              "        \n",
              "  <svg xmlns=\"http://www.w3.org/2000/svg\" height=\"24px\"viewBox=\"0 0 24 24\"\n",
              "       width=\"24px\">\n",
              "    <path d=\"M0 0h24v24H0V0z\" fill=\"none\"/>\n",
              "    <path d=\"M18.56 5.44l.94 2.06.94-2.06 2.06-.94-2.06-.94-.94-2.06-.94 2.06-2.06.94zm-11 1L8.5 8.5l.94-2.06 2.06-.94-2.06-.94L8.5 2.5l-.94 2.06-2.06.94zm10 10l.94 2.06.94-2.06 2.06-.94-2.06-.94-.94-2.06-.94 2.06-2.06.94z\"/><path d=\"M17.41 7.96l-1.37-1.37c-.4-.4-.92-.59-1.43-.59-.52 0-1.04.2-1.43.59L10.3 9.45l-7.72 7.72c-.78.78-.78 2.05 0 2.83L4 21.41c.39.39.9.59 1.41.59.51 0 1.02-.2 1.41-.59l7.78-7.78 2.81-2.81c.8-.78.8-2.07 0-2.86zM5.41 20L4 18.59l7.72-7.72 1.47 1.35L5.41 20z\"/>\n",
              "  </svg>\n",
              "      </button>\n",
              "      \n",
              "  <style>\n",
              "    .colab-df-container {\n",
              "      display:flex;\n",
              "      flex-wrap:wrap;\n",
              "      gap: 12px;\n",
              "    }\n",
              "\n",
              "    .colab-df-convert {\n",
              "      background-color: #E8F0FE;\n",
              "      border: none;\n",
              "      border-radius: 50%;\n",
              "      cursor: pointer;\n",
              "      display: none;\n",
              "      fill: #1967D2;\n",
              "      height: 32px;\n",
              "      padding: 0 0 0 0;\n",
              "      width: 32px;\n",
              "    }\n",
              "\n",
              "    .colab-df-convert:hover {\n",
              "      background-color: #E2EBFA;\n",
              "      box-shadow: 0px 1px 2px rgba(60, 64, 67, 0.3), 0px 1px 3px 1px rgba(60, 64, 67, 0.15);\n",
              "      fill: #174EA6;\n",
              "    }\n",
              "\n",
              "    [theme=dark] .colab-df-convert {\n",
              "      background-color: #3B4455;\n",
              "      fill: #D2E3FC;\n",
              "    }\n",
              "\n",
              "    [theme=dark] .colab-df-convert:hover {\n",
              "      background-color: #434B5C;\n",
              "      box-shadow: 0px 1px 3px 1px rgba(0, 0, 0, 0.15);\n",
              "      filter: drop-shadow(0px 1px 2px rgba(0, 0, 0, 0.3));\n",
              "      fill: #FFFFFF;\n",
              "    }\n",
              "  </style>\n",
              "\n",
              "      <script>\n",
              "        const buttonEl =\n",
              "          document.querySelector('#df-be247443-646c-423b-a7e8-74de03edcdc5 button.colab-df-convert');\n",
              "        buttonEl.style.display =\n",
              "          google.colab.kernel.accessAllowed ? 'block' : 'none';\n",
              "\n",
              "        async function convertToInteractive(key) {\n",
              "          const element = document.querySelector('#df-be247443-646c-423b-a7e8-74de03edcdc5');\n",
              "          const dataTable =\n",
              "            await google.colab.kernel.invokeFunction('convertToInteractive',\n",
              "                                                     [key], {});\n",
              "          if (!dataTable) return;\n",
              "\n",
              "          const docLinkHtml = 'Like what you see? Visit the ' +\n",
              "            '<a target=\"_blank\" href=https://colab.research.google.com/notebooks/data_table.ipynb>data table notebook</a>'\n",
              "            + ' to learn more about interactive tables.';\n",
              "          element.innerHTML = '';\n",
              "          dataTable['output_type'] = 'display_data';\n",
              "          await google.colab.output.renderOutput(dataTable, element);\n",
              "          const docLink = document.createElement('div');\n",
              "          docLink.innerHTML = docLinkHtml;\n",
              "          element.appendChild(docLink);\n",
              "        }\n",
              "      </script>\n",
              "    </div>\n",
              "  </div>\n",
              "  "
            ]
          },
          "metadata": {}
        }
      ]
    },
    {
      "cell_type": "code",
      "source": [
        "print(\"VISUALIZACIÓN DE LAS ETIQUETAS:\\n\")\n",
        "display(y_train)"
      ],
      "metadata": {
        "colab": {
          "base_uri": "https://localhost:8080/",
          "height": 260
        },
        "id": "98j3Q_l2ugPA",
        "outputId": "2287a449-6f79-40f9-e0f0-22f8a73bba1d"
      },
      "execution_count": 5,
      "outputs": [
        {
          "output_type": "stream",
          "name": "stdout",
          "text": [
            "VISUALIZACIÓN DE LAS ETIQUETAS:\n",
            "\n"
          ]
        },
        {
          "output_type": "display_data",
          "data": {
            "text/plain": [
              "424360    2001\n",
              "475048    2005\n",
              "451237    1995\n",
              "200323    1996\n",
              "322297    1984\n",
              "          ... \n",
              "347556    1981\n",
              "395393    2005\n",
              "392477    2009\n",
              "77285     2004\n",
              "217570    2009\n",
              "Name: 0, Length: 412276, dtype: int64"
            ]
          },
          "metadata": {}
        }
      ]
    },
    {
      "cell_type": "code",
      "execution_count": 6,
      "metadata": {
        "colab": {
          "base_uri": "https://localhost:8080/",
          "height": 570
        },
        "id": "3b1SPjnzX0sk",
        "outputId": "82e0b18f-75d0-46bb-c82c-caf84ce25643"
      },
      "outputs": [
        {
          "output_type": "stream",
          "name": "stdout",
          "text": [
            "HISTOGRAMAS PARA TRAIN ETIQUETAS\n",
            "\n"
          ]
        },
        {
          "output_type": "display_data",
          "data": {
            "text/plain": [
              "<Figure size 720x576 with 1 Axes>"
            ],
            "image/png": "[encoded data removed]"
          },
          "metadata": {
            "needs_background": "light"
          }
        },
        {
          "output_type": "stream",
          "name": "stdout",
          "text": [
            "\n",
            "Año más alto en el train-set:  2011\n",
            "Año más bajo en el train-set:  1922\n"
          ]
        }
      ],
      "source": [
        "plt.rcParams[\"figure.figsize\"] = [10, 8]\n",
        "print(\"HISTOGRAMAS PARA TRAIN ETIQUETAS\\n\")\n",
        "y_train.hist()\n",
        "plt.show()\n",
        "\n",
        "print(\"\\nAño más alto en el train-set: \", y_train.max())\n",
        "print(\"Año más bajo en el train-set: \", y_train.min())"
      ]
    },
    {
      "cell_type": "markdown",
      "source": [
        "**(3)** El el visualizado de las etiquetas podemos observar cuantos ejemplos hay para cada año. Vemos que los ejemplos se concentran para el intervalo de año 1990-2011. De ahí hacia abajo los ejemplos son cada vez menos. Es posible que a la hora de eliminar outliers perdamos información de la década de 1920, siendo esta muy poco representativa del conjunto. Esto no es un problema como tal, porque si tan solo hay unos pocos ejemplos, el modelo no va a poder extraer información."
      ],
      "metadata": {
        "id": "C9pzdCMgum6y"
      }
    },
    {
      "cell_type": "code",
      "source": [
        "print(\"Cantidad de ejemplos por debajo de 1930:\\n\")\n",
        "print(y_train[y_train <= 1930].value_counts())"
      ],
      "metadata": {
        "colab": {
          "base_uri": "https://localhost:8080/"
        },
        "id": "Z2tu4eJjeLAn",
        "outputId": "52c5c8de-9044-4fc3-c880-555b66215cf1"
      },
      "execution_count": 7,
      "outputs": [
        {
          "output_type": "stream",
          "name": "stdout",
          "text": [
            "Cantidad de ejemplos por debajo de 1930:\n",
            "\n",
            "1929    66\n",
            "1927    39\n",
            "1928    37\n",
            "1930    36\n",
            "1926    15\n",
            "1925     6\n",
            "1922     5\n",
            "1924     4\n",
            "Name: 0, dtype: int64\n"
          ]
        }
      ]
    },
    {
      "cell_type": "markdown",
      "source": [
        "**(4)** Como hemos dicho antes, y ahora podemos verlo, la cantidad de ejemplos sobre la década de los años 20 empieza a ser muy baja como para poder sér útil para el modelo."
      ],
      "metadata": {
        "id": "4IRuMDureynV"
      }
    },
    {
      "cell_type": "code",
      "source": [
        "plt.rcParams[\"figure.figsize\"] = [16, 12]\n",
        "print(\"BOXPLOTS\\n\")\n",
        "sns.boxplot(data=x_train)\n",
        "plt.show()"
      ],
      "metadata": {
        "colab": {
          "base_uri": "https://localhost:8080/",
          "height": 636
        },
        "id": "IPj8aQEWvBHX",
        "outputId": "3f85b441-e14d-4f3b-880c-a6174f23597a"
      },
      "execution_count": 8,
      "outputs": [
        {
          "output_type": "stream",
          "name": "stdout",
          "text": [
            "BOXPLOTS\n",
            "\n"
          ]
        },
        {
          "output_type": "display_data",
          "data": {
            "text/plain": [
              "<Figure size 1152x864 with 1 Axes>"
            ],
            "image/png": "[encoded data removed]"
          },
          "metadata": {
            "needs_background": "light"
          }
        }
      ]
    },
    {
      "cell_type": "markdown",
      "metadata": {
        "id": "qU4o5YfWdU5P"
      },
      "source": [
        "**(4)** El gráfico de BoxPlot fue el que utilizamos en la anterior parte de la práctica referida a clasificación.\n",
        "\n",
        "Podemos ver pues, que nuestros datos tienen claros outliers, los cuales serán manejados más adelante en el preprocesado de datos. Para ello utilizaremos IsolationForest. Esta función de sklearn se encarga de aislar observaciones seleccionando aleatoriamente una caraterística del conjunto de datos para después, aleatoriamente de nuevo, escoger un valor de particiṕon entre el máximo y el mínimo de esa característica.\n",
        "\n",
        "Como la partición recursiva puede ser representada en forma de árbol, el número de particones para aislar una muestra es equivalente a la altura el árbol. Esta es la principal razón por la que uso esta función y no LOF (Local Outlier Factor), la cuál sí uso en clasificación. Esta vez la cantidad de datos es considerablemente mayor, por lo que por cuestiones de eficiencia en tiempo usaremos este algoritmo. Los resultados entre ambos algoritmos son muy equivalentes.\n",
        "\n",
        "De igual manera que ocurría en clasificación, aquí eliminar outliers debe hacerse con cuidado y moviendonos en un rango de porcentaje de los datos muy bajo (5-1%)."
      ]
    },
    {
      "cell_type": "code",
      "execution_count": null,
      "metadata": {
        "colab": {
          "base_uri": "https://localhost:8080/"
        },
        "id": "zfbZA7fbdUix",
        "outputId": "36b64e58-ef78-44cf-9472-a443bed417ca"
      },
      "outputs": [
        {
          "output_type": "stream",
          "name": "stdout",
          "text": [
            "Tamaño de x_train antes de preprocesado:  412276\n",
            "Tamaño de características de x_train antes de preprocesado:  90\n"
          ]
        }
      ],
      "source": [
        "# Función para preprocesamiento de datos\n",
        "def preProcData(c_datos,labels):\n",
        "\n",
        "  c_datos = c_datos.join(labels)\n",
        "\n",
        "  # Quitamos outliers\n",
        "  iso = IsolationForest(contamination=0.01)\n",
        "  outliers = iso.fit_predict(c_datos)\n",
        "\n",
        "  # Eliminamos los datos que son considerados outliers (-1)\n",
        "  c_datos = c_datos[outliers != -1]\n",
        "\n",
        "  labels = c_datos.iloc[:,-1]\n",
        "  c_datos = c_datos.iloc[:,:-1]\n",
        "  \n",
        "  # Los datos cuya variabilidad sea nula (0) serán eliminados\n",
        "  selector = VarianceThreshold(threshold=0)\n",
        "  c_datos = selector.fit_transform(c_datos)\n",
        "\n",
        "  # Estandarizamos los datos\n",
        "  scaler = StandardScaler()\n",
        "  c_datos = scaler.fit_transform(c_datos)\n",
        "\n",
        "  return c_datos, labels\n",
        "\n",
        "before_outliers = x_train.shape[0]\n",
        "print(\"Tamaño de x_train antes de preprocesado: \", before_outliers)\n",
        "before_fet = x_train.shape[1]\n",
        "print(\"Tamaño de características de x_train antes de preprocesado: \", before_fet)\n",
        "\n",
        "x_train, y_train = preProcData(x_train, y_train)\n",
        "\n",
        "after_outliers = x_train.shape[0]\n",
        "print(\"Tamaño de x_train después de preprocesado: \", after_outliers)\n",
        "after_fet = x_train.shape[1]\n",
        "print(\"Tamaño de características x_train después de preprocesado: \", after_fet)\n",
        "\n",
        "x_test, y_test = preProcData(x_test, y_test)\n",
        "\n",
        "print(\"Porcentaje de valores outliers eliminados: \", (1-(after_outliers/before_outliers))*100, \"%\")\n",
        "print(\"Año más alto en el train-set: \", y_train.max())\n",
        "print(\"Año más bajo en el train-set: \", y_train.min())"
      ]
    },
    {
      "cell_type": "markdown",
      "source": [
        "#Preprocesado de los datos\n",
        "**(5)** Para el preprocesado de datos definimos una función a la que le pasamos los datos de train, le aplicamos las transformaciones necesarias y después hacemos lo mismo con los datos de test.\n",
        "\n",
        "De nuevo para valorar la variabilidad de las características utilizo VarianceThreshold con un umbral de 0, es decir, cualquier característica que sea igual para todos los ejemplos es irrelevante y debería ser eliminada. Pese a ello, podemos observar que no se elimina ninguna, ni siquiera aumentando el umbral. Como conclusión podemos intuir que son todas igual de importantes a la hora de aportar información.\n",
        "\n",
        "Para estandarizar usamos StandardScaler, cuyos resultados son muy superiores al resto probados. Como ya explicamos, estandarizar remueve la media y escala los datos a la varianza de la unidad. En el caso de regresión me ha dado unos resultados muy superiores a otros normalizadores/escaladores tales como MinMaxScaler, RobustScaler o QuantileTransformer. Estos dos últimos resultaban interesantes por el manejo que tienen de los outliers. Pese a ello he obtenido mejores resultados (no he hecho data snooping) con StandarScaler y el manejo de los outliers con IsolationForest.\n",
        "\n",
        "Como podemos ver, la herramienta de selección de outliers nos elimina un 2% de contaminación como le hemos indicado. De ese 2% ha eliminado ejemplos de varias épocas, pese a ello la década de los años 20 sigue estando representada. Si aumentásemos el porcentaje de contaminación llevaría a eliminar varios años de los menos representados."
      ],
      "metadata": {
        "id": "7pwSkaMVv87y"
      }
    },
    {
      "cell_type": "code",
      "execution_count": null,
      "metadata": {
        "id": "z-eP4ePtqJGh"
      },
      "outputs": [],
      "source": [
        "# Hacemos la selección de hiperparámetros usando cross validation para LR\n",
        "def featureSelectionR(x_train,y_train,folds,s):\n",
        "    parameters = [{'penalty':['l1','l2'],'alpha':[0.1,0.01,0.001,0.0001,0.00001],'epsilon':[0.1]}]\n",
        "    linear_regression = linear_model.SGDRegressor(early_stopping=True,n_iter_no_change=1,max_iter=1000)\n",
        "    g_ = GridSearchCV(linear_regression, parameters, cv=folds, scoring=s)\n",
        "    g_.fit(x_train,y_train)\n",
        "    predictions = g_.predict(x_train)\n",
        "    print(\"Logistic-regression:\\n----------------\")\n",
        "    print(\"Hiperparámetros: \", g_.best_params_)\n",
        "    if s == 'neg_mean_absolute_error':\n",
        "      print(\"Mean Absolute Error: \", metrics.mean_absolute_error(y_train,predictions))\n",
        "    else:\n",
        "      print(\"Mean Squared Error: \", metrics.mean_squared_error(y_train,predictions))\n",
        "    return g_\n",
        "\n",
        "# Hacemos la selección de hiperparámetros usando cross validation para Dummy\n",
        "def featureSelectionD(x_train,y_train,folds,s):\n",
        "    parameters = [{'strategy':['mean']}]\n",
        "    dummy = DummyRegressor()\n",
        "    g_ = GridSearchCV(dummy, parameters, cv=folds, scoring=s)\n",
        "    g_.fit(x_train,y_train)\n",
        "    predictions = g_.predict(x_train)\n",
        "    print(\"Logistic-regression:\\n----------------\")\n",
        "    print(\"Hiperparámetros: \", g_.best_params_)\n",
        "    print(\"Mean Squared Error: \", metrics.mean_squared_error(y_train,predictions))\n",
        "    return g_\n",
        "\n",
        "# DESCOMENTAR PARA PROBAR DIFERENTES K PARA CV\n",
        "#for i in range(5,11):\n",
        "#  print(\"\\n----CROSS-VALIDATION PARA \", i, \" PARTICIONES----\")\n",
        "#  best_model_MAE = featureSelectionR(x_train,y_train,i,'neg_mean_absolute_error')\n",
        "#  best_model_MSE = featureSelectionR(x_train,y_train,i,'neg_mean_squared_error')\n",
        "\n",
        "best_model_MAE = featureSelectionR(x_train,y_train,5,'neg_mean_absolute_error')\n",
        "best_model_MSE = featureSelectionR(x_train,y_train,5,'neg_mean_squared_error')\n",
        "best_model_Dummy = featureSelectionR(x_train,y_train,5,'neg_mean_squared_error')\n",
        "\n",
        "# Hacemos test para R\n",
        "def LinealRegression(x_train, y_train, x_test, y_test, best_model):\n",
        "  g = linear_model.SGDRegressor(**best_model.best_params_).fit(x_train, y_train)\n",
        "  predictions = g.predict(x_test)\n",
        "  score = g.score(x_test,y_test)\n",
        "\n",
        "  print(\"E_test: \", score)\n",
        "  return g, predictions, score\n",
        "\n",
        "\n",
        "print(\"\\n\\n----------- RESULTADOS CONJUNTO TEST -----------\\n\\n\")\n",
        "\n",
        "model_MSE, predictions_MSE, etest = LinealRegression(x_train, y_train, x_test, y_test, best_model_MSE)"
      ]
    },
    {
      "cell_type": "markdown",
      "source": [
        "#Formulación hipótesis y entrenamiento\n",
        "**(6)** A la hora de hacer selección de modelos vamos a usar de nuevo GridSearchCV para la búsqueda exhaustiva de hiperparámetros:\n",
        "* Penalty (regularizador): volvemos a tener en cuenta los dos regularizadores, que son Lasso y Ridge.\n",
        "\n",
        "  * Regularizador Lasso (l1): este tipo de regularizacin minimiza la siguiente expresión:\n",
        "\n",
        "  $min_{w,c}\\frac{1}{2}w^Tw+C\\sum_{i=1}^{N}log(exp(-y_i(X_i^Tw+c))+1).$   \n",
        "  \n",
        "  Esta es efectiva cuando los atributos de entrada sean irrelevantes o así lo sospechemos, pues algunos coeficientes pueden acabar valiendo 0. De esta forma tendremos solo algunos atributos relevantes, nuestra complejidad será mejor y tendremos una mejor generalización. Funciona mejor cuando no hay demasiada relación entre atributos.\n",
        "  * Regularizador Ridge (l2): se minimiza la siguiente expresión:\n",
        "\n",
        "  $min_{w,c}||w||_1+C\\sum_{i=1}^{N}log(exp(-y_i(X_i^Tw+c))+1).$ \n",
        "\n",
        "  Esta se suele utilizar cuando, al contrario que en l1 (lasso), sospechamos que los atributos si tienen conexiones más fuertes entre ellos. Ridge se encarga de minimizar los coeficientes.\n",
        "\n",
        "* Alpha (cantidad de regularización): aplicamos distintas cantidades para ver cuáles dan mejor resultados.\n",
        "* Epsilon: determina un umbral para la función de perdida, en nuestro caso squared-error (por defecto, no hace falta indicarla).\n",
        "\n",
        "Dentro de la función GridSearchCV que realiza el cross-validation para la estimación de los hiperparámetros se encuentra el estimador (nuestro algoritmo de regresión), los parámetros a estimar, número de folds para cross validaton (por defecto se aplica Stratified, lo cuál indica que se presevar en cada fold el porcentaje de ejemplos por clase), y el parámetro scoring, al cual debemos pasarle el tipo de métrica que decidirá que modelo es más prometedor según nuestros intereses.\n",
        "\n",
        "Como parámetros estáticos hemos seleccionado que nuestro modelo debe tener earlystopping en el momento de aprendizaje. Este parámetro indica que tras unas cuantas épocas sin mejorar el algoritmo deberá parar. El número de épocas viene determinado por n_iter_no_change. Estos dos últimos son sobre todo por cuestiones de tiempo, ya que el algoritmo podía tardar muchos minutos y arrojar una solución igual de buena que con earlystopping (de hecho tras varias ejecuciones, es así, de ahí la elección de épocas = 1).\n",
        "\n",
        "Otros parámetros utilizados son la función de pérdida, en nuestro caso 'squared_error' ya que usamos regresión lineal, 'tol' el cual hace referencia al criterio de parada, si es distinto de 'None' el entrenamiento parará cuando (loss > best_loss - tol) siendo la tolerancia por defecto 1e-3. También tenemos el learning rate y eta0 (el learning rate inicial). El tipo de learning rate por defecto es el adaptativo, el cual decrece a medida que pasa el entrenamiento.\n",
        "\n",
        "The stopping criterion. If it is not None, training will stop when (loss > best_loss - tol) for n_iter_no_change consecutive epochs. Convergence is checked against the training loss or the validation loss depending on the early_stopping parameter.\n",
        "\n",
        "Como métrica de evaluación vamos a probrar dos, el error absoluto medio y el error cuadrático medio. El MSE es la distancia cuadrática media entre los valores observados y los predichos. La interpretación es menos intuitiva que en el error medio absoluto. Este tipo de métrica penaliza los errores grandes mucho más que los pequeños, por lo que se suele utilizar cuando interesa que tu modelo tenga errores pequeños.\n",
        "\n",
        "* $MSE = \\frac{1}{n}\\sum_{i=1}^{n}(Y_i-\\hat{Y}_i)^2$\n",
        "\n",
        "El MAE (mean absolute error) mide la media de todos los errores absolutos. Un error absoluto es la cantidad de error en nuestra medida, por ejemplo, si nuestro modelo a partir de cierta información da como salida que la canción pertenece a 2007 y la respuesta verdadera es que es de 2001. En ese caso, nuestro error absoluto será de 6.\n",
        "\n",
        "* $MAE = \\frac{1}{n}\\sum_{i=1}^{n}|Y_i-\\hat{Y}_i|$\n",
        "\n",
        "Este tipo de error es fácilmente interpretable por lo que nos ayudará a la hora de realizar un análisis de los resultados.\n",
        "\n",
        "Hemos usado 5 folds dado que los resultados arrojados en pruebas son muy equivalentes y no hay diferencia apreciable, además el tiempo para 5 folds es inferior."
      ],
      "metadata": {
        "id": "MXD6SA-GvKZl"
      }
    },
    {
      "cell_type": "markdown",
      "source": [
        "#Discusión de los resultados\n",
        "**(7)** Podemos ver en los resultados arrojados por 5-fold cross validation que nuestro modelo MAE tiene un error medio de 6.8, esto significa que de media nuestro modelo se ha equivocado con una diferencia de 6.8 años con respecto a el año verdadero. En caso de MSE el error es cuadrático, es normal que sea mucho mayor en valor absoluto. Esta métrica, como hemos explicado antes, penaliza los errores muy grandes. En nuestro caso es algo que nos interesa, si nuestro clasificador predijera una canción del 2011 como una del 1985, sería un caso para nada interesante. En cambio, podemos soportar errores más pequeños, de menos años de diferencia. Por ello a pesar de que el error dado por MSE sea mayor de media comparado con MAE ($\\sqrt{MAE} > MSE)$, creo que vale la pena sacrificar algo de precisión por un modelo más estable y con errores menores en vez de tener uno que de media predice mejor, pero que fuede tener errores muy grandes ocasionalmente."
      ],
      "metadata": {
        "id": "62LObdtAYhYd"
      }
    },
    {
      "cell_type": "code",
      "source": [
        "eout = etest + mt.sqrt(mt.log(2/0.05)/(2*x_test.shape[0]))\n",
        "print(\"Estimación Eout: \", eout)"
      ],
      "metadata": {
        "id": "f_DsF5ZQCQJ3"
      },
      "execution_count": null,
      "outputs": []
    },
    {
      "cell_type": "markdown",
      "source": [
        "**(8)** Sabiendo que $E_{test}$ es una buena cota para $E_{out}$ podemos asegurar con seguridad que el error fuera de la muestra será siempre:\n",
        "  \n",
        "  * $E_{out}(g)\\leq E_{test}(g) + \\sqrt{\\frac{1}{2N}ln \\frac{2}{α}}$\n",
        "\n",
        "Dado esta fórmula calculamos la cota para el error fuera de la muestra. En este caso la variable $α=0.05$ indica que la cota es esa para una confianza del 95%."
      ],
      "metadata": {
        "id": "qsmlF05qCQ_4"
      }
    },
    {
      "cell_type": "code",
      "source": [
        "def createLearningCurvesR(x_train, y_train, model):\n",
        "  X_train, X_val, Y_train, Y_val = train_test_split(x_train, y_train, test_size=0.2, random_state=12345)\n",
        "\n",
        "  ein = []\n",
        "  eout = []\n",
        "  N = []\n",
        "  alpha = 0.0005\n",
        "  j = round(X_train.shape[0] * alpha)\n",
        "\n",
        "  for i in range(X_train.shape[0]):\n",
        "    predictions = model.predict(X_train[i:j])\n",
        " \n",
        "    score = metrics.mean_squared_error(Y_train[i:j],predictions)\n",
        "    ein.append(score)\n",
        "\n",
        "    predictions = model.predict(X_val[i:j])\n",
        "  \n",
        "    score = metrics.mean_squared_error(Y_val[i:j],predictions)\n",
        "    eout.append(score)\n",
        "    N.append(j)\n",
        "\n",
        "    alpha += 0.0005\n",
        "    i = j + 1\n",
        "\n",
        "    if i >= X_train.shape[0]:\n",
        "      break\n",
        "\n",
        "    if (j + round(X_train.shape[0] * alpha)) < X_train.shape[0]:\n",
        "      j = j + round(X_train.shape[0] * alpha)\n",
        "    else:\n",
        "      j = X_train.shape[0]\n",
        "\n",
        "  return ein, eout, N\n",
        "\n",
        "einMSE, eoutMSE, N = createLearningCurvesR(x_train, y_train, model_MSE)"
      ],
      "metadata": {
        "id": "dZ7dALi9VUZ4"
      },
      "execution_count": null,
      "outputs": []
    },
    {
      "cell_type": "code",
      "source": [
        "def learning_curves(ein, eout, N):\n",
        "  plt.figure(figsize=(7,7))\n",
        "  x1 = N\n",
        "  y1 = ein\n",
        "  x2 = N\n",
        "  y2 = eout\n",
        "\n",
        "  plt.plot(x1, y1, c = 'b', label = \"E_in\")\n",
        "  plt.plot(x2, y2, c = 'r', label = \"E_val\")\n",
        "  plt.xlabel(\"Number of data points, N\")\n",
        "  plt.ylabel(\"Error\")\n",
        "  plt.legend()\n",
        "\n",
        "  plt.show()\n",
        "\n",
        "print(\"---- LEARNING CURVES R ----\")\n",
        "print(\"\\nMSE: \\n\")\n",
        "learning_curves(einMSE, eoutMSE, N)"
      ],
      "metadata": {
        "id": "oKNITMk4VnI9"
      },
      "execution_count": null,
      "outputs": []
    },
    {
      "cell_type": "markdown",
      "source": [
        "**(9)** Analizando las curvas de aprendizaje de nuestro modelo de regresión lineal podemos observar como la curva del error dentro de la muestra (dentro del training set) aumenta al principio para terminar estabilizandose. Con validación ocurre lo mismo, y podemos observar como ambas curvas se aproximan una a la otra. Esto es porque el error in sample (si N es suficientemente grande) es muy probable que sea cercano al error out of sample (debido a la desigualdad de Hoeffding). \n",
        "\n",
        "  * $P[|E_{in} - E_{out}| > ε] \\leq 2e^{-2ε^2N}$\n",
        "\n",
        "Estas curvas indican un proceso de aprendizaje y como a medida que el tamaño de la población aumenta, nuestros errores disminuyen de forma gradual hasta estabilizarse."
      ],
      "metadata": {
        "id": "RGHGH9BLHzNA"
      }
    },
    {
      "cell_type": "markdown",
      "source": [
        "#Empresa\n",
        "**(17)** Si fuese una persona dentro de una empresa a la que le han encargado realizar este ajuste sin distinción entre training y test debería tener varias cosas en cuenta.\n",
        "\n",
        "Tenemos que saber lo que implica usar un conjunto de validación, y es que el conjunto de validación es casi idéntico al conjunto de test. Retiramos un subconjunto de los datos que no es usado en training y luego lo utilizamos para testar los resultados y estimar $E_{out}$. A pesar de que este conjunto no se usa en el training, sí que influye en cierta medida en el proceso de entrenamiento, pero lo hace de manera tan benigna que Eout apenas se ve afectado, por lo que es una buena manera de estimar $E_{out}$.\n",
        "\n",
        "Pese a ello, también hay que tener en cuenta el tamaño del conjunto de validación. Como ya comentamos en la división de datos si el tamaño del conjunto training es demasiado pequeño (conjunto de validación muy grande), nuestra hipótesis candidata será peor pues tiene menos datos para entrenarse. Por el contrario, si el tamaño del conjunto validación es muy pequeño, nuestra varianza se disparará.\n",
        "\n",
        "Por ello estimar un tamaño adecuado es crucial para la buena selección de nuestro modelo.\n",
        "\n",
        "Otra cosa a tener en cuenta es no usar los datos de validación/test para absolutamente nada. Si los usasemos para el análisis cabría la posibilidad de estar guiando nuestras decisiones para adaptar el modelo lo mejor posible a esos datos, pero, ¿cuando lleguen el resto de muestras?. Nuestro modelo debe saber generalizar, no podemos adaptarlo a una muestra concreta. Mucho menos deberíamos validar con los mismos datos que entrenamos, estaríamos estimando un error muy optimista, lo cual no será ni mucho menos preciso a la hora de usarlo fuera de la muestra de entrenamiento. \n",
        "\n",
        "El $E_{out}$ dado debería ser una cota de este, garantizando que nunca superará este umbral. Por ello, si calculamos $E_{test}$ podríamos tener también una estimación realista del error fuera de muestra, como hemos hecho antes al estimarlo en apartados anteriores."
      ],
      "metadata": {
        "id": "oPiQgkiXJwzx"
      }
    }
  ],
  "metadata": {
    "colab": {
      "collapsed_sections": [],
      "provenance": []
    },
    "kernelspec": {
      "display_name": "Python 3",
      "name": "python3"
    },
    "language_info": {
      "name": "python"
    }
  },
  "nbformat": 4,
  "nbformat_minor": 0
}